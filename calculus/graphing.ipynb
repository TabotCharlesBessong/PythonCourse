{
 "cells": [
  {
   "cell_type": "code",
   "execution_count": null,
   "id": "a398517b",
   "metadata": {},
   "outputs": [],
   "source": [
    "import matplotlib.pyplot as plt\n",
    "import numpy as np\n",
    "import math\n",
    "\n",
    "x_value = 0\n",
    "y_value = 0\n",
    "\n",
    "xmin = -10\n",
    "xmax = 10\n",
    "ymin = -10\n",
    "ymax = 10\n",
    "points = 10*(xmax-xmin)\n",
    "x = np.linspace(xmin,xmax,points)\n",
    "\n",
    "fig, ax = plt.subplots()\n",
    "plt.axis([xmin,xmax,ymin,ymax]) # window size\n",
    "plt.plot([xmin,xmax],[0,0],'b') # blue x axis\n",
    "plt.plot([0,0],[ymin,ymax], 'b') # blue y axis\n",
    "\n",
    "# Graph the function\n",
    "y1 = np.ones_like(x)\n",
    "plt.plot(x, y1)\n",
    "\n",
    "# Plot a point\n",
    "plt.plot([x_value],[y_value], 'ro')\n",
    "\n",
    "plt.show()"
   ]
  },
  {
   "cell_type": "code",
   "execution_count": null,
   "id": "9a8003d7",
   "metadata": {},
   "outputs": [],
   "source": [
    "import sympy\n",
    "from sympy import symbols\n",
    "\n",
    "x,y = symbols('x y')\n",
    "\n",
    "# y = equation\n",
    "eq = sympy.sin(x)\n",
    "derivative = sympy.diff(eq,x)\n",
    "eq\n",
    "# This does not work for implicit differentiation"
   ]
  },
  {
   "cell_type": "code",
   "execution_count": null,
   "id": "18f68cde",
   "metadata": {},
   "outputs": [],
   "source": [
    "derivative"
   ]
  },
  {
   "cell_type": "code",
   "execution_count": null,
   "id": "c0a3d147",
   "metadata": {},
   "outputs": [],
   "source": [
    "from sympy.plotting import plot\n",
    "\n",
    "# plot equation and derivative\n",
    "sympy.plot(eq,derivative)"
   ]
  },
  {
   "cell_type": "code",
   "execution_count": null,
   "id": "653a2ef3",
   "metadata": {},
   "outputs": [],
   "source": [
    "import sympy\n",
    "from sympy import symbols\n",
    "\n",
    "x,y = symbols('x y')\n",
    "\n",
    "# 0 = equation\n",
    "eq = x**2 + y**2 - 25\n",
    "derivative = sympy.idiff(eq,y,x)\n",
    "eq\n"
   ]
  },
  {
   "cell_type": "code",
   "execution_count": null,
   "id": "dd496be0",
   "metadata": {},
   "outputs": [],
   "source": [
    "derivative"
   ]
  },
  {
   "cell_type": "code",
   "execution_count": null,
   "id": "79fab558",
   "metadata": {},
   "outputs": [],
   "source": [
    "# this works to plot the original equation\n",
    "# plot_implicit(eq)"
   ]
  },
  {
   "cell_type": "code",
   "execution_count": null,
   "id": "aa321aaa",
   "metadata": {},
   "outputs": [],
   "source": [
    "# first, choose an x value\n",
    "x_value = 1\n",
    "step_1 = sympy.Eq(eq,0)\n",
    "step_2 = step_1.subs(x,x_value)\n",
    "step_3 = sympy.solve(step_2,y)\n",
    "\n",
    "# loop because multiple y values are possible\n",
    "for a in step_3:\n",
    "  print(\"x = \", x_value)\n",
    "  print(\"y = \", a)\n",
    "  print(\"slope = \",derivative.subs(x,x_value).subs(y,a))\n",
    "  print(\" \")"
   ]
  },
  {
   "cell_type": "code",
   "execution_count": null,
   "id": "6fea3748",
   "metadata": {},
   "outputs": [],
   "source": [
    "import sympy\n",
    "from sympy import symbols\n",
    "\n",
    "x,y = symbols('x y')\n",
    "\n",
    "# 0 = equation\n",
    "eq = x**3 + y**3 - 6*x*y\n",
    "derivative = sympy.idiff(eq,y,x)\n",
    "eq\n"
   ]
  },
  {
   "cell_type": "code",
   "execution_count": null,
   "id": "4593a23b",
   "metadata": {},
   "outputs": [],
   "source": [
    "derivative"
   ]
  },
  {
   "cell_type": "code",
   "execution_count": null,
   "id": "f102c271",
   "metadata": {},
   "outputs": [],
   "source": [
    "# test to find y values\n",
    "x_value = -2\n",
    "step_1 = sympy.Eq(eq,0)\n",
    "step_1\n",
    "step_2 = step_1.subs(x,x_value)\n",
    "step_2\n",
    "step_3 = sympy.solve(step_2,y)\n",
    "step_3\n",
    "# outputs all y values"
   ]
  },
  {
   "cell_type": "code",
   "execution_count": null,
   "id": "3c21e20c",
   "metadata": {},
   "outputs": [],
   "source": [
    "step_3[0].evalf()"
   ]
  },
  {
   "cell_type": "code",
   "execution_count": null,
   "id": "2366f9a3",
   "metadata": {},
   "outputs": [],
   "source": [
    "step_3[1].evalf()"
   ]
  },
  {
   "cell_type": "code",
   "execution_count": null,
   "id": "accb91e6",
   "metadata": {},
   "outputs": [],
   "source": [
    "step_3[2].evalf()"
   ]
  },
  {
   "cell_type": "code",
   "execution_count": null,
   "id": "0def19cf",
   "metadata": {},
   "outputs": [],
   "source": [
    "y_value = step_3[2].evalf()\n",
    "print(\"point on the graph:\")\n",
    "print(\"x = \", x_value)\n",
    "print(\"y = \", y_value)\n",
    "print(\"slope = \",derivative.subs(x,x_value).subs(y,y_value))\n",
    "sympy.plot_implicit(eq, xlim=(-4, 4), ylim=(-4, 4), markers=[{'args': [x_value, y_value, 'ro']}])"
   ]
  },
  {
   "cell_type": "code",
   "execution_count": null,
   "id": "f325ab31",
   "metadata": {},
   "outputs": [],
   "source": [
    "# slope at a point\n",
    "\n",
    "x_value = -2\n",
    "step_1 = sympy.Eq(eq,0)\n",
    "step_2 = step_1.subs(x,x_value)\n",
    "step_3 = sympy.solve(step_2,y)\n",
    "y_value = step_3[2].evalf() # important\n",
    "\n",
    "print(\"x = \", x_value)\n",
    "print(\"y = \", y_value)\n",
    "slope = derivative.subs(x,x_value).subs(y,y_value)\n",
    "print(\"slope = \", slope)\n",
    "\n"
   ]
  },
  {
   "cell_type": "code",
   "execution_count": null,
   "id": "268d9b8a",
   "metadata": {},
   "outputs": [],
   "source": []
  }
 ],
 "metadata": {
  "kernelspec": {
   "display_name": "base",
   "language": "python",
   "name": "python3"
  },
  "language_info": {
   "codemirror_mode": {
    "name": "ipython",
    "version": 3
   },
   "file_extension": ".py",
   "mimetype": "text/x-python",
   "name": "python",
   "nbconvert_exporter": "python",
   "pygments_lexer": "ipython3",
   "version": "3.12.7"
  }
 },
 "nbformat": 4,
 "nbformat_minor": 5
}
