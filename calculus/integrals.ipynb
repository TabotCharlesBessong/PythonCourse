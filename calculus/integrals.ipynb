{
 "cells": [
  {
   "cell_type": "markdown",
   "id": "5fdbac10",
   "metadata": {},
   "source": [
    "# Integrals"
   ]
  },
  {
   "cell_type": "markdown",
   "id": "c7f75be1",
   "metadata": {},
   "source": [
    "## Riemann Sum"
   ]
  },
  {
   "cell_type": "code",
   "execution_count": null,
   "id": "7d8c9359",
   "metadata": {},
   "outputs": [],
   "source": [
    "# y = x**2 from x=0 to x=3\n",
    "\n",
    "dx = 0.001\n",
    "start_x = 0\n",
    "end_x = 3\n",
    "rectangles = int((end_x - start_x)/dx)\n",
    "\n",
    "sum = 0\n",
    "for a in range(rectangles):\n",
    "  x = start_x + dx*a\n",
    "  y = x**2\n",
    "  area = y*dx\n",
    "  sum = sum + area\n",
    "\n",
    "print(sum)"
   ]
  },
  {
   "cell_type": "markdown",
   "id": "12445277",
   "metadata": {},
   "source": [
    "## Integral Equations"
   ]
  },
  {
   "cell_type": "code",
   "execution_count": null,
   "id": "04ce720e",
   "metadata": {},
   "outputs": [],
   "source": [
    "import sympy\n",
    "from sympy import symbols\n",
    "\n",
    "x,y,c = symbols('x y c')\n",
    "\n",
    "eq = 1/(x*sympy.log(x))\n",
    "integral = sympy.integrate(eq)\n",
    "integral"
   ]
  },
  {
   "cell_type": "markdown",
   "id": "0b69a9dc",
   "metadata": {},
   "source": [
    "## Definite Integral"
   ]
  },
  {
   "cell_type": "code",
   "execution_count": null,
   "id": "ef8f0ec7",
   "metadata": {},
   "outputs": [],
   "source": [
    "\n",
    "lower = 0\n",
    "upper = 3\n",
    "integral_definite = sympy.integrate(eq, (x, lower, upper))\n",
    "integral_definite"
   ]
  },
  {
   "cell_type": "markdown",
   "id": "c2054601",
   "metadata": {},
   "source": [
    "## Area above and below x axis"
   ]
  },
  {
   "cell_type": "code",
   "execution_count": null,
   "id": "af83fbff",
   "metadata": {},
   "outputs": [],
   "source": [
    "import sympy\n",
    "from sympy import symbols\n",
    "\n",
    "x,y, c = symbols('x y c')\n",
    "\n",
    "# graph\n",
    "eq = sympy.sin(x)\n",
    "sympy.plot(eq)"
   ]
  },
  {
   "cell_type": "code",
   "execution_count": null,
   "id": "4996a564",
   "metadata": {},
   "outputs": [],
   "source": [
    "# find the zeros\n",
    "zeros = sympy.solve(eq)\n",
    "zeros"
   ]
  },
  {
   "cell_type": "code",
   "execution_count": null,
   "id": "2538f336",
   "metadata": {},
   "outputs": [],
   "source": [
    "# area with two zeros in range\n",
    "import math\n",
    "\n",
    "lower = 0\n",
    "upper = 2*sympy.pi\n",
    "one = abs(sympy.integrate(eq, (x, lower, zeros[0])))\n",
    "two = abs(sympy.integrate(eq, (x, zeros[0], zeros[1])))\n",
    "three = abs(sympy.integrate(eq, (x, zeros[1], upper)))\n",
    "print(\"area = \", one+two+three)\n",
    "print(one)\n",
    "print(two)\n",
    "print(three)"
   ]
  },
  {
   "cell_type": "markdown",
   "id": "59b66a93",
   "metadata": {},
   "source": [
    "## Fundamental Theorem of Calculus"
   ]
  },
  {
   "cell_type": "code",
   "execution_count": null,
   "id": "43099d22",
   "metadata": {},
   "outputs": [],
   "source": [
    "import sympy\n",
    "from sympy import symbols\n",
    "x,y,c = symbols('x y c')\n",
    "\n",
    "eq = (sympy.sin(4*x))**2\n",
    "eq"
   ]
  },
  {
   "cell_type": "code",
   "execution_count": null,
   "id": "702d32f9",
   "metadata": {},
   "outputs": [],
   "source": [
    "integral = sympy.integrate(eq) + c\n",
    "integral"
   ]
  },
  {
   "cell_type": "code",
   "execution_count": null,
   "id": "815b4e1b",
   "metadata": {},
   "outputs": [],
   "source": [
    "integral_x = integral.subs(c,100) # any c value will do\n",
    "derivative = sympy.diff(integral_x)\n",
    "derivative"
   ]
  },
  {
   "cell_type": "code",
   "execution_count": null,
   "id": "7c935759",
   "metadata": {},
   "outputs": [],
   "source": [
    "ans = sympy.trigsimp(derivative)\n",
    "ans"
   ]
  },
  {
   "cell_type": "code",
   "execution_count": null,
   "id": "28d08389",
   "metadata": {},
   "outputs": [],
   "source": [
    "integral2 = sympy.integrate(derivative) + c\n",
    "integral2"
   ]
  },
  {
   "cell_type": "markdown",
   "id": "6ad262c4",
   "metadata": {},
   "source": [
    "## Area between two curves"
   ]
  },
  {
   "cell_type": "code",
   "execution_count": null,
   "id": "a56b34b2",
   "metadata": {},
   "outputs": [],
   "source": [
    "import sympy\n",
    "from sympy import symbols, Eq\n",
    "\n",
    "x,y, c = symbols('x y c')\n",
    "\n",
    "# graph\n",
    "eq_1 = x**2\n",
    "eq_2 = x\n",
    "sympy.plot(eq_1, eq_2, (x, -0.5, 1.5))\n"
   ]
  },
  {
   "cell_type": "code",
   "execution_count": null,
   "id": "86e19caf",
   "metadata": {},
   "outputs": [],
   "source": [
    "# find the intersection points\n",
    "x_points = sympy.solve(Eq(eq_1,eq_2))\n",
    "x_points"
   ]
  },
  {
   "cell_type": "code",
   "execution_count": null,
   "id": "1ca54a76",
   "metadata": {},
   "outputs": [],
   "source": [
    "# area between curves\n",
    "\n",
    "lower = x_points[0]\n",
    "upper = x_points[1]\n",
    "top = sympy.integrate(eq_2, (x, lower, upper))\n",
    "bottom = sympy.integrate(eq_1, (x, lower, upper))\n",
    "area = abs(top - bottom)\n",
    "print(\"area = \", area)\n"
   ]
  },
  {
   "cell_type": "markdown",
   "id": "2a7b3bf2",
   "metadata": {},
   "source": [
    "## Center of mass"
   ]
  },
  {
   "cell_type": "code",
   "execution_count": null,
   "id": "c3550c05",
   "metadata": {},
   "outputs": [],
   "source": [
    "import sympy\n",
    "from sympy import symbols, Eq\n",
    "\n",
    "x,y,c = symbols('x y c')\n",
    "\n",
    "# x value range\n",
    "lower = 0\n",
    "upper = 9\n",
    "\n",
    "# for area between eq_1 and x axis\n",
    "eq_1 = sympy.sqrt(x)\n",
    "\n",
    "mass = sympy.integrate(eq_1, (x, lower, upper))\n",
    "eq_2 = (eq_1**2)/2\n",
    "mx = sympy.integrate(eq_2, (x, lower, upper))\n",
    "eq_3 = x*eq_1\n",
    "my = sympy.integrate(eq_3, (x, lower, upper))\n",
    "x_center = my/mass\n",
    "y_center = mx/mass\n",
    "print(\"x center of mass = \", x_center)\n",
    "print(\"y center of mass = \", y_center)\n",
    "print(\"point = (\", sympy.N(x_center),\",\", sympy.N(y_center),\")\")\n",
    "\n",
    "# plot area with point in the center\n",
    "sympy.plot(eq_1,(x,lower,upper),markers=[{'args':[x_center,y_center,'ro']}])\n"
   ]
  },
  {
   "cell_type": "markdown",
   "id": "9f21f858",
   "metadata": {},
   "source": [
    "## Arc Length"
   ]
  },
  {
   "cell_type": "code",
   "execution_count": null,
   "id": "e4d54922",
   "metadata": {},
   "outputs": [],
   "source": [
    "import sympy\n",
    "from sympy import symbols, Eq\n",
    "\n",
    "x,y,c = symbols('x y c')\n",
    "\n",
    "# x value range\n",
    "lower = -3\n",
    "upper = 3\n",
    "\n",
    "eq_1 = x**2\n",
    "der = sympy.diff(eq_1)\n",
    "eq_2 = sympy.sqrt(der**2 + 1)\n",
    "arc_length = sympy.integrate(eq_2, (x, lower, upper))\n",
    "print(\"arc length = \", arc_length)\n",
    "print(\"arc length = \", sympy.N(arc_length))\n",
    "arc_length"
   ]
  },
  {
   "cell_type": "markdown",
   "id": "afb67dc2",
   "metadata": {},
   "source": [
    "## Surface Area"
   ]
  },
  {
   "cell_type": "code",
   "execution_count": null,
   "id": "948610cd",
   "metadata": {},
   "outputs": [],
   "source": [
    "import sympy\n",
    "from sympy import symbols, Eq\n",
    "\n",
    "x,y,c = symbols('x y c')\n",
    "\n",
    "# x value range\n",
    "lower = 0\n",
    "upper = 3\n",
    "\n",
    "# boundary equation (y value is the radius)\n",
    "eq_1 = x**2\n",
    "\n",
    "# arc length equation\n",
    "der = sympy.diff(eq_1)\n",
    "eq_2 = sympy.sqrt(der**2 + 1)\n",
    "\n",
    "# surface area = 2*pi*radius*arc length\n",
    "surface_area = sympy.integrate(2*sympy.pi*eq_1*eq_2, (x, lower, upper))\n",
    "\n",
    "# revolve around x axis\n",
    "print(\"surface area = \", sympy.N(surface_area))\n",
    "print(\"surface area = \", surface_area)\n",
    "surface_area\n"
   ]
  },
  {
   "cell_type": "markdown",
   "id": "93c2eba6",
   "metadata": {},
   "source": [
    "## Tables of integrals"
   ]
  },
  {
   "cell_type": "code",
   "execution_count": null,
   "id": "d5d91d30",
   "metadata": {},
   "outputs": [],
   "source": [
    "import sympy\n",
    "from sympy import symbols\n",
    "\n",
    "x,y,c = symbols('x y c')\n",
    "\n",
    "#eq = sympy.sec(x)**2\n",
    "#eq = -sympy.csc(x)**2\n",
    "#eq = sympy.sec(x)*sympy.tan(x)\n",
    "#eq = sympy.tan(x)\n",
    "#eq = sympy.cot(x)\n",
    "#eq = sympy.sec(x)\n",
    "#eq = sympy.csc(x)\n",
    "#eq = 1/(x*sympy.sqrt(x**2 - 9))\n",
    "eq = sympy.sin(x)**2\n",
    "eq = sympy.cos(x)**2\n",
    "eq = sympy.tan(x)**2\n",
    "\n",
    "integral = sympy.integrate(eq)\n",
    "integral"
   ]
  },
  {
   "cell_type": "code",
   "execution_count": null,
   "id": "86d5d229",
   "metadata": {},
   "outputs": [],
   "source": [
    "sim = sympy.simplify(integral)\n",
    "sim"
   ]
  },
  {
   "cell_type": "code",
   "execution_count": null,
   "id": "edf554ce",
   "metadata": {},
   "outputs": [],
   "source": [
    "# no need to factor integrals\n",
    "\n",
    "eq = 1/sympy.sqrt(9-x**2)\n",
    "eq = 1/(9+x**2)\n",
    "eq = sympy.log(x)\n",
    "eq = sympy.asin(x)\n",
    "eq = sympy.acos(x)\n"
   ]
  },
  {
   "cell_type": "code",
   "execution_count": null,
   "id": "c7fd5b05",
   "metadata": {},
   "outputs": [],
   "source": [
    "# check\n",
    "der = sympy.diff(integral)\n",
    "der"
   ]
  },
  {
   "cell_type": "code",
   "execution_count": null,
   "id": "d3261f1d",
   "metadata": {},
   "outputs": [],
   "source": [
    "# check 2\n",
    "der = sympy.diff((-1/3)*sympy.asec(3/x))\n",
    "der"
   ]
  },
  {
   "cell_type": "code",
   "execution_count": null,
   "id": "6f2110f8",
   "metadata": {},
   "outputs": [],
   "source": []
  }
 ],
 "metadata": {
  "kernelspec": {
   "display_name": "base",
   "language": "python",
   "name": "python3"
  },
  "language_info": {
   "codemirror_mode": {
    "name": "ipython",
    "version": 3
   },
   "file_extension": ".py",
   "mimetype": "text/x-python",
   "name": "python",
   "nbconvert_exporter": "python",
   "pygments_lexer": "ipython3",
   "version": "3.12.7"
  }
 },
 "nbformat": 4,
 "nbformat_minor": 5
}
