{
 "cells": [
  {
   "cell_type": "markdown",
   "id": "a89454f1",
   "metadata": {},
   "source": [
    "## Power rule"
   ]
  },
  {
   "cell_type": "code",
   "execution_count": 1,
   "id": "30493345",
   "metadata": {},
   "outputs": [
    {
     "data": {
      "text/latex": [
       "$\\displaystyle \\sec{\\left(2 x \\right)}$"
      ],
      "text/plain": [
       "sec(2*x)"
      ]
     },
     "execution_count": 1,
     "metadata": {},
     "output_type": "execute_result"
    }
   ],
   "source": [
    "import sympy\n",
    "from sympy import symbols\n",
    "\n",
    "x,y = symbols('x y')\n",
    "\n",
    "eq = sympy.sec(2*x)\n",
    "# (x/2)-(sympy.sin(4*x)*sympy.cos(4*x)/8)\n",
    "derivative = sympy.diff(eq,x)\n",
    "\n",
    "eq"
   ]
  },
  {
   "cell_type": "code",
   "execution_count": 2,
   "id": "9303a1bb",
   "metadata": {},
   "outputs": [
    {
     "data": {
      "text/latex": [
       "$\\displaystyle 2 \\tan{\\left(2 x \\right)} \\sec{\\left(2 x \\right)}$"
      ],
      "text/plain": [
       "2*tan(2*x)*sec(2*x)"
      ]
     },
     "execution_count": 2,
     "metadata": {},
     "output_type": "execute_result"
    }
   ],
   "source": [
    "derivative"
   ]
  },
  {
   "cell_type": "code",
   "execution_count": 3,
   "id": "588ae22e",
   "metadata": {},
   "outputs": [
    {
     "name": "stdout",
     "output_type": "stream",
     "text": [
      "2*tan(6)*sec(6)\n"
     ]
    }
   ],
   "source": [
    "x_value = 3\n",
    "answer = derivative.subs(x,x_value)\n",
    "print(answer)"
   ]
  },
  {
   "cell_type": "markdown",
   "id": "10b774a8",
   "metadata": {},
   "source": [
    "## Product Rule"
   ]
  },
  {
   "cell_type": "code",
   "execution_count": 4,
   "id": "098b1947",
   "metadata": {},
   "outputs": [
    {
     "data": {
      "text/latex": [
       "$\\displaystyle x^{2} e^{2 x}$"
      ],
      "text/plain": [
       "x**2*exp(2*x)"
      ]
     },
     "execution_count": 4,
     "metadata": {},
     "output_type": "execute_result"
    }
   ],
   "source": [
    "import sympy\n",
    "from sympy import symbols\n",
    "\n",
    "x,y = symbols('x y')\n",
    "\n",
    "eq = x**2*sympy.exp(2*x)\n",
    "#eq = (x**3)*(x**2 +2*x)\n",
    "derivative = sympy.diff(eq,x)\n",
    "eq"
   ]
  },
  {
   "cell_type": "code",
   "execution_count": 5,
   "id": "54312dc1",
   "metadata": {},
   "outputs": [
    {
     "data": {
      "text/latex": [
       "$\\displaystyle 2 x^{2} e^{2 x} + 2 x e^{2 x}$"
      ],
      "text/plain": [
       "2*x**2*exp(2*x) + 2*x*exp(2*x)"
      ]
     },
     "execution_count": 5,
     "metadata": {},
     "output_type": "execute_result"
    }
   ],
   "source": [
    "derivative"
   ]
  },
  {
   "cell_type": "markdown",
   "id": "6c4b4bed",
   "metadata": {},
   "source": [
    "## Quotient Rule"
   ]
  },
  {
   "cell_type": "code",
   "execution_count": 6,
   "id": "bba8678e",
   "metadata": {},
   "outputs": [
    {
     "data": {
      "text/latex": [
       "$\\displaystyle \\frac{x^{3} - 1}{x^{2} - 1}$"
      ],
      "text/plain": [
       "(x**3 - 1)/(x**2 - 1)"
      ]
     },
     "execution_count": 6,
     "metadata": {},
     "output_type": "execute_result"
    }
   ],
   "source": [
    "import sympy\n",
    "from sympy import symbols\n",
    "\n",
    "x,y = symbols('x y')\n",
    "\n",
    "eq = (x**3 - 1) / (x**2 - 1)\n",
    "derivative = sympy.diff(eq,x)\n",
    "eq"
   ]
  },
  {
   "cell_type": "code",
   "execution_count": 7,
   "id": "7fae70c1",
   "metadata": {},
   "outputs": [
    {
     "data": {
      "text/latex": [
       "$\\displaystyle \\frac{3 x^{2}}{x^{2} - 1} - \\frac{2 x \\left(x^{3} - 1\\right)}{\\left(x^{2} - 1\\right)^{2}}$"
      ],
      "text/plain": [
       "3*x**2/(x**2 - 1) - 2*x*(x**3 - 1)/(x**2 - 1)**2"
      ]
     },
     "execution_count": 7,
     "metadata": {},
     "output_type": "execute_result"
    }
   ],
   "source": [
    "derivative"
   ]
  },
  {
   "cell_type": "code",
   "execution_count": 9,
   "id": "1759eaa0",
   "metadata": {},
   "outputs": [
    {
     "name": "stdout",
     "output_type": "stream",
     "text": [
      "8/9\n"
     ]
    }
   ],
   "source": [
    "x_value = 2\n",
    "answer = derivative.subs(x,x_value)\n",
    "print(answer)"
   ]
  },
  {
   "cell_type": "markdown",
   "id": "82b84f3c",
   "metadata": {},
   "source": [
    "## Chain Rule\n",
    "\n",
    "#### Multiply by the derivative of the inner function"
   ]
  },
  {
   "cell_type": "code",
   "execution_count": 10,
   "id": "ef1f11c0",
   "metadata": {},
   "outputs": [
    {
     "data": {
      "text/latex": [
       "$\\displaystyle \\left(x^{2} + 8\\right)^{4}$"
      ],
      "text/plain": [
       "(x**2 + 8)**4"
      ]
     },
     "execution_count": 10,
     "metadata": {},
     "output_type": "execute_result"
    }
   ],
   "source": [
    "import sympy\n",
    "from sympy import symbols\n",
    "\n",
    "x,y = symbols('x y')\n",
    "\n",
    "eq = (x**2 + 8)**4\n",
    "derivative = sympy.diff(eq,x)\n",
    "eq"
   ]
  },
  {
   "cell_type": "code",
   "execution_count": 11,
   "id": "40c6b61a",
   "metadata": {},
   "outputs": [
    {
     "data": {
      "text/latex": [
       "$\\displaystyle 8 x \\left(x^{2} + 8\\right)^{3}$"
      ],
      "text/plain": [
       "8*x*(x**2 + 8)**3"
      ]
     },
     "execution_count": 11,
     "metadata": {},
     "output_type": "execute_result"
    }
   ],
   "source": [
    "derivative"
   ]
  },
  {
   "cell_type": "code",
   "execution_count": 12,
   "id": "bee82f95",
   "metadata": {},
   "outputs": [
    {
     "data": {
      "text/latex": [
       "$\\displaystyle \\sqrt{x^{2} + 8}$"
      ],
      "text/plain": [
       "sqrt(x**2 + 8)"
      ]
     },
     "execution_count": 12,
     "metadata": {},
     "output_type": "execute_result"
    }
   ],
   "source": [
    "import sympy\n",
    "from sympy import symbols\n",
    "\n",
    "x,y = symbols('x y')\n",
    "\n",
    "eq = sympy.sqrt(x**2 + 8)\n",
    "derivative = sympy.diff(eq,x)\n",
    "eq"
   ]
  },
  {
   "cell_type": "code",
   "execution_count": 13,
   "id": "627292fb",
   "metadata": {},
   "outputs": [
    {
     "data": {
      "text/latex": [
       "$\\displaystyle \\frac{x}{\\sqrt{x^{2} + 8}}$"
      ],
      "text/plain": [
       "x/sqrt(x**2 + 8)"
      ]
     },
     "execution_count": 13,
     "metadata": {},
     "output_type": "execute_result"
    }
   ],
   "source": [
    "derivative"
   ]
  },
  {
   "cell_type": "code",
   "execution_count": 15,
   "id": "95f3c161",
   "metadata": {},
   "outputs": [
    {
     "name": "stdout",
     "output_type": "stream",
     "text": [
      "3*sqrt(17)/17\n"
     ]
    }
   ],
   "source": [
    "x_value = 3\n",
    "answer = derivative.subs(x,x_value)\n",
    "print(answer)"
   ]
  },
  {
   "cell_type": "markdown",
   "id": "82c97319",
   "metadata": {},
   "source": [
    "## Exponential function"
   ]
  },
  {
   "cell_type": "code",
   "execution_count": 16,
   "id": "a29a9bec",
   "metadata": {},
   "outputs": [
    {
     "data": {
      "text/latex": [
       "$\\displaystyle e^{x}$"
      ],
      "text/plain": [
       "exp(x)"
      ]
     },
     "execution_count": 16,
     "metadata": {},
     "output_type": "execute_result"
    }
   ],
   "source": [
    "import sympy\n",
    "from sympy import symbols\n",
    "\n",
    "x,y = symbols('x y')\n",
    "\n",
    "eq = sympy.exp(x)\n",
    "derivative = sympy.diff(eq,x)\n",
    "eq"
   ]
  },
  {
   "cell_type": "code",
   "execution_count": 17,
   "id": "86c25012",
   "metadata": {},
   "outputs": [
    {
     "data": {
      "text/latex": [
       "$\\displaystyle e^{x}$"
      ],
      "text/plain": [
       "exp(x)"
      ]
     },
     "execution_count": 17,
     "metadata": {},
     "output_type": "execute_result"
    }
   ],
   "source": [
    "derivative"
   ]
  },
  {
   "cell_type": "code",
   "execution_count": 18,
   "id": "133806c6",
   "metadata": {},
   "outputs": [
    {
     "data": {
      "text/latex": [
       "$\\displaystyle 3^{x}$"
      ],
      "text/plain": [
       "3**x"
      ]
     },
     "execution_count": 18,
     "metadata": {},
     "output_type": "execute_result"
    }
   ],
   "source": [
    "import sympy\n",
    "from sympy import symbols\n",
    "\n",
    "x,y = symbols('x y')\n",
    "\n",
    "eq = 3**x\n",
    "derivative = sympy.diff(eq,x)\n",
    "eq"
   ]
  },
  {
   "cell_type": "code",
   "execution_count": 19,
   "id": "d498d855",
   "metadata": {},
   "outputs": [
    {
     "data": {
      "text/latex": [
       "$\\displaystyle 3^{x} \\log{\\left(3 \\right)}$"
      ],
      "text/plain": [
       "3**x*log(3)"
      ]
     },
     "execution_count": 19,
     "metadata": {},
     "output_type": "execute_result"
    }
   ],
   "source": [
    "derivative"
   ]
  },
  {
   "cell_type": "markdown",
   "id": "dbe128ce",
   "metadata": {},
   "source": [
    "## Logarithmic Functions\n",
    "#### Remember \"log(x)\" in sympy is \"ln(x)\" in math notation"
   ]
  },
  {
   "cell_type": "code",
   "execution_count": 20,
   "id": "f8a94962",
   "metadata": {},
   "outputs": [
    {
     "data": {
      "text/latex": [
       "$\\displaystyle \\log{\\left(x \\right)}$"
      ],
      "text/plain": [
       "log(x)"
      ]
     },
     "execution_count": 20,
     "metadata": {},
     "output_type": "execute_result"
    }
   ],
   "source": [
    "import sympy\n",
    "from sympy import symbols\n",
    "\n",
    "x,y = symbols('x y')\n",
    "\n",
    "eq = sympy.log(x)\n",
    "derivative = sympy.diff(eq,x)\n",
    "eq"
   ]
  },
  {
   "cell_type": "code",
   "execution_count": 21,
   "id": "69ed5d7c",
   "metadata": {},
   "outputs": [
    {
     "data": {
      "text/latex": [
       "$\\displaystyle \\frac{1}{x}$"
      ],
      "text/plain": [
       "1/x"
      ]
     },
     "execution_count": 21,
     "metadata": {},
     "output_type": "execute_result"
    }
   ],
   "source": [
    "derivative"
   ]
  },
  {
   "cell_type": "code",
   "execution_count": 22,
   "id": "2eebc85b",
   "metadata": {},
   "outputs": [
    {
     "data": {
      "text/latex": [
       "$\\displaystyle \\frac{\\log{\\left(x \\right)}}{\\log{\\left(10 \\right)}}$"
      ],
      "text/plain": [
       "log(x)/log(10)"
      ]
     },
     "execution_count": 22,
     "metadata": {},
     "output_type": "execute_result"
    }
   ],
   "source": [
    "import sympy\n",
    "from sympy import symbols\n",
    "\n",
    "x,y = symbols('x y')\n",
    "\n",
    "base = 10\n",
    "eq = sympy.log(x,base)\n",
    "derivative = sympy.diff(eq,x)\n",
    "eq"
   ]
  },
  {
   "cell_type": "code",
   "execution_count": 23,
   "id": "945ed7d8",
   "metadata": {},
   "outputs": [
    {
     "data": {
      "text/latex": [
       "$\\displaystyle \\frac{1}{x \\log{\\left(10 \\right)}}$"
      ],
      "text/plain": [
       "1/(x*log(10))"
      ]
     },
     "execution_count": 23,
     "metadata": {},
     "output_type": "execute_result"
    }
   ],
   "source": [
    "derivative"
   ]
  },
  {
   "cell_type": "code",
   "execution_count": null,
   "id": "84291086",
   "metadata": {},
   "outputs": [],
   "source": []
  }
 ],
 "metadata": {
  "kernelspec": {
   "display_name": "base",
   "language": "python",
   "name": "python3"
  },
  "language_info": {
   "codemirror_mode": {
    "name": "ipython",
    "version": 3
   },
   "file_extension": ".py",
   "mimetype": "text/x-python",
   "name": "python",
   "nbconvert_exporter": "python",
   "pygments_lexer": "ipython3",
   "version": "3.12.7"
  }
 },
 "nbformat": 4,
 "nbformat_minor": 5
}
