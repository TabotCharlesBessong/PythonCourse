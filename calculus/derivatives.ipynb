{
 "cells": [
  {
   "cell_type": "markdown",
   "id": "a89454f1",
   "metadata": {},
   "source": [
    "## Power rule"
   ]
  },
  {
   "cell_type": "code",
   "execution_count": 1,
   "id": "30493345",
   "metadata": {},
   "outputs": [
    {
     "data": {
      "text/latex": [
       "$\\displaystyle \\sec{\\left(2 x \\right)}$"
      ],
      "text/plain": [
       "sec(2*x)"
      ]
     },
     "execution_count": 1,
     "metadata": {},
     "output_type": "execute_result"
    }
   ],
   "source": [
    "import sympy\n",
    "from sympy import symbols\n",
    "\n",
    "x,y = symbols('x y')\n",
    "\n",
    "eq = sympy.sec(2*x)\n",
    "# (x/2)-(sympy.sin(4*x)*sympy.cos(4*x)/8)\n",
    "derivative = sympy.diff(eq,x)\n",
    "\n",
    "eq"
   ]
  },
  {
   "cell_type": "code",
   "execution_count": 2,
   "id": "9303a1bb",
   "metadata": {},
   "outputs": [
    {
     "data": {
      "text/latex": [
       "$\\displaystyle 2 \\tan{\\left(2 x \\right)} \\sec{\\left(2 x \\right)}$"
      ],
      "text/plain": [
       "2*tan(2*x)*sec(2*x)"
      ]
     },
     "execution_count": 2,
     "metadata": {},
     "output_type": "execute_result"
    }
   ],
   "source": [
    "derivative"
   ]
  },
  {
   "cell_type": "code",
   "execution_count": 3,
   "id": "588ae22e",
   "metadata": {},
   "outputs": [
    {
     "name": "stdout",
     "output_type": "stream",
     "text": [
      "2*tan(6)*sec(6)\n"
     ]
    }
   ],
   "source": [
    "x_value = 3\n",
    "answer = derivative.subs(x,x_value)\n",
    "print(answer)"
   ]
  },
  {
   "cell_type": "markdown",
   "id": "10b774a8",
   "metadata": {},
   "source": [
    "## Product Rule"
   ]
  },
  {
   "cell_type": "code",
   "execution_count": 4,
   "id": "098b1947",
   "metadata": {},
   "outputs": [
    {
     "data": {
      "text/latex": [
       "$\\displaystyle x^{2} e^{2 x}$"
      ],
      "text/plain": [
       "x**2*exp(2*x)"
      ]
     },
     "execution_count": 4,
     "metadata": {},
     "output_type": "execute_result"
    }
   ],
   "source": [
    "import sympy\n",
    "from sympy import symbols\n",
    "\n",
    "x,y = symbols('x y')\n",
    "\n",
    "eq = x**2*sympy.exp(2*x)\n",
    "#eq = (x**3)*(x**2 +2*x)\n",
    "derivative = sympy.diff(eq,x)\n",
    "eq"
   ]
  },
  {
   "cell_type": "code",
   "execution_count": 5,
   "id": "54312dc1",
   "metadata": {},
   "outputs": [
    {
     "data": {
      "text/latex": [
       "$\\displaystyle 2 x^{2} e^{2 x} + 2 x e^{2 x}$"
      ],
      "text/plain": [
       "2*x**2*exp(2*x) + 2*x*exp(2*x)"
      ]
     },
     "execution_count": 5,
     "metadata": {},
     "output_type": "execute_result"
    }
   ],
   "source": [
    "derivative"
   ]
  },
  {
   "cell_type": "markdown",
   "id": "6c4b4bed",
   "metadata": {},
   "source": [
    "## Quotient Rule"
   ]
  },
  {
   "cell_type": "code",
   "execution_count": 6,
   "id": "bba8678e",
   "metadata": {},
   "outputs": [
    {
     "data": {
      "text/latex": [
       "$\\displaystyle \\frac{x^{3} - 1}{x^{2} - 1}$"
      ],
      "text/plain": [
       "(x**3 - 1)/(x**2 - 1)"
      ]
     },
     "execution_count": 6,
     "metadata": {},
     "output_type": "execute_result"
    }
   ],
   "source": [
    "import sympy\n",
    "from sympy import symbols\n",
    "\n",
    "x,y = symbols('x y')\n",
    "\n",
    "eq = (x**3 - 1) / (x**2 - 1)\n",
    "derivative = sympy.diff(eq,x)\n",
    "eq"
   ]
  },
  {
   "cell_type": "code",
   "execution_count": 7,
   "id": "7fae70c1",
   "metadata": {},
   "outputs": [
    {
     "data": {
      "text/latex": [
       "$\\displaystyle \\frac{3 x^{2}}{x^{2} - 1} - \\frac{2 x \\left(x^{3} - 1\\right)}{\\left(x^{2} - 1\\right)^{2}}$"
      ],
      "text/plain": [
       "3*x**2/(x**2 - 1) - 2*x*(x**3 - 1)/(x**2 - 1)**2"
      ]
     },
     "execution_count": 7,
     "metadata": {},
     "output_type": "execute_result"
    }
   ],
   "source": [
    "derivative"
   ]
  },
  {
   "cell_type": "code",
   "execution_count": 9,
   "id": "1759eaa0",
   "metadata": {},
   "outputs": [
    {
     "name": "stdout",
     "output_type": "stream",
     "text": [
      "8/9\n"
     ]
    }
   ],
   "source": [
    "x_value = 2\n",
    "answer = derivative.subs(x,x_value)\n",
    "print(answer)"
   ]
  },
  {
   "cell_type": "markdown",
   "id": "82b84f3c",
   "metadata": {},
   "source": [
    "## Chain Rule\n",
    "\n",
    "#### Multiply by the derivative of the inner function"
   ]
  },
  {
   "cell_type": "code",
   "execution_count": 10,
   "id": "ef1f11c0",
   "metadata": {},
   "outputs": [
    {
     "data": {
      "text/latex": [
       "$\\displaystyle \\left(x^{2} + 8\\right)^{4}$"
      ],
      "text/plain": [
       "(x**2 + 8)**4"
      ]
     },
     "execution_count": 10,
     "metadata": {},
     "output_type": "execute_result"
    }
   ],
   "source": [
    "import sympy\n",
    "from sympy import symbols\n",
    "\n",
    "x,y = symbols('x y')\n",
    "\n",
    "eq = (x**2 + 8)**4\n",
    "derivative = sympy.diff(eq,x)\n",
    "eq"
   ]
  },
  {
   "cell_type": "code",
   "execution_count": 11,
   "id": "40c6b61a",
   "metadata": {},
   "outputs": [
    {
     "data": {
      "text/latex": [
       "$\\displaystyle 8 x \\left(x^{2} + 8\\right)^{3}$"
      ],
      "text/plain": [
       "8*x*(x**2 + 8)**3"
      ]
     },
     "execution_count": 11,
     "metadata": {},
     "output_type": "execute_result"
    }
   ],
   "source": [
    "derivative"
   ]
  },
  {
   "cell_type": "code",
   "execution_count": 12,
   "id": "bee82f95",
   "metadata": {},
   "outputs": [
    {
     "data": {
      "text/latex": [
       "$\\displaystyle \\sqrt{x^{2} + 8}$"
      ],
      "text/plain": [
       "sqrt(x**2 + 8)"
      ]
     },
     "execution_count": 12,
     "metadata": {},
     "output_type": "execute_result"
    }
   ],
   "source": [
    "import sympy\n",
    "from sympy import symbols\n",
    "\n",
    "x,y = symbols('x y')\n",
    "\n",
    "eq = sympy.sqrt(x**2 + 8)\n",
    "derivative = sympy.diff(eq,x)\n",
    "eq"
   ]
  },
  {
   "cell_type": "code",
   "execution_count": 13,
   "id": "627292fb",
   "metadata": {},
   "outputs": [
    {
     "data": {
      "text/latex": [
       "$\\displaystyle \\frac{x}{\\sqrt{x^{2} + 8}}$"
      ],
      "text/plain": [
       "x/sqrt(x**2 + 8)"
      ]
     },
     "execution_count": 13,
     "metadata": {},
     "output_type": "execute_result"
    }
   ],
   "source": [
    "derivative"
   ]
  },
  {
   "cell_type": "code",
   "execution_count": 15,
   "id": "95f3c161",
   "metadata": {},
   "outputs": [
    {
     "name": "stdout",
     "output_type": "stream",
     "text": [
      "3*sqrt(17)/17\n"
     ]
    }
   ],
   "source": [
    "x_value = 3\n",
    "answer = derivative.subs(x,x_value)\n",
    "print(answer)"
   ]
  },
  {
   "cell_type": "markdown",
   "id": "82c97319",
   "metadata": {},
   "source": [
    "## Exponential function"
   ]
  },
  {
   "cell_type": "code",
   "execution_count": 16,
   "id": "a29a9bec",
   "metadata": {},
   "outputs": [
    {
     "data": {
      "text/latex": [
       "$\\displaystyle e^{x}$"
      ],
      "text/plain": [
       "exp(x)"
      ]
     },
     "execution_count": 16,
     "metadata": {},
     "output_type": "execute_result"
    }
   ],
   "source": [
    "import sympy\n",
    "from sympy import symbols\n",
    "\n",
    "x,y = symbols('x y')\n",
    "\n",
    "eq = sympy.exp(x)\n",
    "derivative = sympy.diff(eq,x)\n",
    "eq"
   ]
  },
  {
   "cell_type": "code",
   "execution_count": 17,
   "id": "86c25012",
   "metadata": {},
   "outputs": [
    {
     "data": {
      "text/latex": [
       "$\\displaystyle e^{x}$"
      ],
      "text/plain": [
       "exp(x)"
      ]
     },
     "execution_count": 17,
     "metadata": {},
     "output_type": "execute_result"
    }
   ],
   "source": [
    "derivative"
   ]
  },
  {
   "cell_type": "code",
   "execution_count": 18,
   "id": "133806c6",
   "metadata": {},
   "outputs": [
    {
     "data": {
      "text/latex": [
       "$\\displaystyle 3^{x}$"
      ],
      "text/plain": [
       "3**x"
      ]
     },
     "execution_count": 18,
     "metadata": {},
     "output_type": "execute_result"
    }
   ],
   "source": [
    "import sympy\n",
    "from sympy import symbols\n",
    "\n",
    "x,y = symbols('x y')\n",
    "\n",
    "eq = 3**x\n",
    "derivative = sympy.diff(eq,x)\n",
    "eq"
   ]
  },
  {
   "cell_type": "code",
   "execution_count": 19,
   "id": "d498d855",
   "metadata": {},
   "outputs": [
    {
     "data": {
      "text/latex": [
       "$\\displaystyle 3^{x} \\log{\\left(3 \\right)}$"
      ],
      "text/plain": [
       "3**x*log(3)"
      ]
     },
     "execution_count": 19,
     "metadata": {},
     "output_type": "execute_result"
    }
   ],
   "source": [
    "derivative"
   ]
  },
  {
   "cell_type": "markdown",
   "id": "dbe128ce",
   "metadata": {},
   "source": [
    "## Logarithmic Functions\n",
    "#### Remember \"log(x)\" in sympy is \"ln(x)\" in math notation"
   ]
  },
  {
   "cell_type": "code",
   "execution_count": 20,
   "id": "f8a94962",
   "metadata": {},
   "outputs": [
    {
     "data": {
      "text/latex": [
       "$\\displaystyle \\log{\\left(x \\right)}$"
      ],
      "text/plain": [
       "log(x)"
      ]
     },
     "execution_count": 20,
     "metadata": {},
     "output_type": "execute_result"
    }
   ],
   "source": [
    "import sympy\n",
    "from sympy import symbols\n",
    "\n",
    "x,y = symbols('x y')\n",
    "\n",
    "eq = sympy.log(x)\n",
    "derivative = sympy.diff(eq,x)\n",
    "eq"
   ]
  },
  {
   "cell_type": "code",
   "execution_count": 21,
   "id": "69ed5d7c",
   "metadata": {},
   "outputs": [
    {
     "data": {
      "text/latex": [
       "$\\displaystyle \\frac{1}{x}$"
      ],
      "text/plain": [
       "1/x"
      ]
     },
     "execution_count": 21,
     "metadata": {},
     "output_type": "execute_result"
    }
   ],
   "source": [
    "derivative"
   ]
  },
  {
   "cell_type": "code",
   "execution_count": 22,
   "id": "2eebc85b",
   "metadata": {},
   "outputs": [
    {
     "data": {
      "text/latex": [
       "$\\displaystyle \\frac{\\log{\\left(x \\right)}}{\\log{\\left(10 \\right)}}$"
      ],
      "text/plain": [
       "log(x)/log(10)"
      ]
     },
     "execution_count": 22,
     "metadata": {},
     "output_type": "execute_result"
    }
   ],
   "source": [
    "import sympy\n",
    "from sympy import symbols\n",
    "\n",
    "x,y = symbols('x y')\n",
    "\n",
    "base = 10\n",
    "eq = sympy.log(x,base)\n",
    "derivative = sympy.diff(eq,x)\n",
    "eq"
   ]
  },
  {
   "cell_type": "code",
   "execution_count": 23,
   "id": "945ed7d8",
   "metadata": {},
   "outputs": [
    {
     "data": {
      "text/latex": [
       "$\\displaystyle \\frac{1}{x \\log{\\left(10 \\right)}}$"
      ],
      "text/plain": [
       "1/(x*log(10))"
      ]
     },
     "execution_count": 23,
     "metadata": {},
     "output_type": "execute_result"
    }
   ],
   "source": [
    "derivative"
   ]
  },
  {
   "cell_type": "markdown",
   "id": "227f2f46",
   "metadata": {},
   "source": [
    "## Trigonometric Functions\n",
    "\n",
    "#### y = sin(x)"
   ]
  },
  {
   "cell_type": "code",
   "execution_count": 24,
   "id": "84291086",
   "metadata": {},
   "outputs": [
    {
     "data": {
      "text/latex": [
       "$\\displaystyle \\sin{\\left(x \\right)}$"
      ],
      "text/plain": [
       "sin(x)"
      ]
     },
     "execution_count": 24,
     "metadata": {},
     "output_type": "execute_result"
    }
   ],
   "source": [
    "import sympy\n",
    "from sympy import symbols\n",
    "\n",
    "x,y = symbols('x y')\n",
    "\n",
    "eq = sympy.sin(x)\n",
    "derivative = sympy.diff(eq,x)\n",
    "eq"
   ]
  },
  {
   "cell_type": "code",
   "execution_count": 25,
   "id": "1b50df89",
   "metadata": {},
   "outputs": [
    {
     "data": {
      "text/latex": [
       "$\\displaystyle \\cos{\\left(x \\right)}$"
      ],
      "text/plain": [
       "cos(x)"
      ]
     },
     "execution_count": 25,
     "metadata": {},
     "output_type": "execute_result"
    }
   ],
   "source": [
    "derivative"
   ]
  },
  {
   "cell_type": "code",
   "execution_count": 26,
   "id": "8ad5c407",
   "metadata": {},
   "outputs": [
    {
     "data": {
      "text/latex": [
       "$\\displaystyle \\cos{\\left(x \\right)}$"
      ],
      "text/plain": [
       "cos(x)"
      ]
     },
     "execution_count": 26,
     "metadata": {},
     "output_type": "execute_result"
    }
   ],
   "source": [
    "import sympy\n",
    "from sympy import symbols\n",
    "\n",
    "x,y = symbols('x y')\n",
    "\n",
    "eq = sympy.cos(x)\n",
    "derivative = sympy.diff(eq,x)\n",
    "eq"
   ]
  },
  {
   "cell_type": "code",
   "execution_count": 27,
   "id": "3bf0b917",
   "metadata": {},
   "outputs": [
    {
     "data": {
      "text/latex": [
       "$\\displaystyle - \\sin{\\left(x \\right)}$"
      ],
      "text/plain": [
       "-sin(x)"
      ]
     },
     "execution_count": 27,
     "metadata": {},
     "output_type": "execute_result"
    }
   ],
   "source": [
    "derivative"
   ]
  },
  {
   "cell_type": "code",
   "execution_count": 28,
   "id": "4740f25e",
   "metadata": {},
   "outputs": [
    {
     "data": {
      "text/latex": [
       "$\\displaystyle \\tan{\\left(x \\right)}$"
      ],
      "text/plain": [
       "tan(x)"
      ]
     },
     "execution_count": 28,
     "metadata": {},
     "output_type": "execute_result"
    }
   ],
   "source": [
    "import sympy\n",
    "from sympy import symbols\n",
    "\n",
    "x,y = symbols('x y')\n",
    "\n",
    "eq = sympy.tan(x)\n",
    "derivative = sympy.diff(eq,x)\n",
    "eq"
   ]
  },
  {
   "cell_type": "code",
   "execution_count": 29,
   "id": "b8e26f20",
   "metadata": {},
   "outputs": [
    {
     "data": {
      "text/latex": [
       "$\\displaystyle \\tan^{2}{\\left(x \\right)} + 1$"
      ],
      "text/plain": [
       "tan(x)**2 + 1"
      ]
     },
     "execution_count": 29,
     "metadata": {},
     "output_type": "execute_result"
    }
   ],
   "source": [
    "derivative"
   ]
  },
  {
   "cell_type": "code",
   "execution_count": 30,
   "id": "5c52ff5a",
   "metadata": {},
   "outputs": [
    {
     "data": {
      "text/latex": [
       "$\\displaystyle \\frac{1}{\\cos^{2}{\\left(x \\right)}}$"
      ],
      "text/plain": [
       "cos(x)**(-2)"
      ]
     },
     "execution_count": 30,
     "metadata": {},
     "output_type": "execute_result"
    }
   ],
   "source": [
    "other = sympy.trigsimp(derivative)\n",
    "other"
   ]
  },
  {
   "cell_type": "code",
   "execution_count": 31,
   "id": "481af249",
   "metadata": {},
   "outputs": [
    {
     "data": {
      "text/latex": [
       "$\\displaystyle \\sec^{2}{\\left(x \\right)}$"
      ],
      "text/plain": [
       "sec(x)**2"
      ]
     },
     "execution_count": 31,
     "metadata": {},
     "output_type": "execute_result"
    }
   ],
   "source": [
    "other_1 = sympy.trigsimp(sympy.sec(x)**2)\n",
    "other_1"
   ]
  },
  {
   "cell_type": "code",
   "execution_count": 32,
   "id": "2e81870f",
   "metadata": {},
   "outputs": [
    {
     "data": {
      "text/latex": [
       "$\\displaystyle \\frac{1}{\\cos^{2}{\\left(x \\right)}}$"
      ],
      "text/plain": [
       "cos(x)**(-2)"
      ]
     },
     "execution_count": 32,
     "metadata": {},
     "output_type": "execute_result"
    }
   ],
   "source": [
    "other_2 = sympy.trigsimp(1/sympy.cos(x)**2)\n",
    "other_2"
   ]
  },
  {
   "cell_type": "markdown",
   "id": "a78e7eaa",
   "metadata": {},
   "source": [
    "## Inverse trigonometric functions"
   ]
  },
  {
   "cell_type": "code",
   "execution_count": 33,
   "id": "5293f79f",
   "metadata": {},
   "outputs": [
    {
     "data": {
      "text/latex": [
       "$\\displaystyle \\operatorname{atan}{\\left(x \\right)}$"
      ],
      "text/plain": [
       "atan(x)"
      ]
     },
     "execution_count": 33,
     "metadata": {},
     "output_type": "execute_result"
    }
   ],
   "source": [
    "import sympy\n",
    "from sympy import symbols\n",
    "\n",
    "x,y = symbols('x y')\n",
    "\n",
    "# un-comment the function you want\n",
    "#eq = sympy.asin(x)\n",
    "#eq = sympy.acos(x)\n",
    "eq = sympy.atan(x)\n",
    "#eq = sympy.acot(x)\n",
    "#eq = sympy.asec(x)\n",
    "#eq = sympy.acsc(x)\n",
    "\n",
    "derivative = sympy.diff(eq,x)\n",
    "eq"
   ]
  },
  {
   "cell_type": "code",
   "execution_count": 34,
   "id": "24928692",
   "metadata": {},
   "outputs": [
    {
     "data": {
      "text/latex": [
       "$\\displaystyle \\frac{1}{x^{2} + 1}$"
      ],
      "text/plain": [
       "1/(x**2 + 1)"
      ]
     },
     "execution_count": 34,
     "metadata": {},
     "output_type": "execute_result"
    }
   ],
   "source": [
    "derivative"
   ]
  },
  {
   "cell_type": "markdown",
   "id": "9b070e95",
   "metadata": {},
   "source": [
    "## Hyperbolic Trig Functions"
   ]
  },
  {
   "cell_type": "code",
   "execution_count": 35,
   "id": "605dd4b3",
   "metadata": {},
   "outputs": [
    {
     "data": {
      "text/latex": [
       "$\\displaystyle \\sinh{\\left(x \\right)}$"
      ],
      "text/plain": [
       "sinh(x)"
      ]
     },
     "execution_count": 35,
     "metadata": {},
     "output_type": "execute_result"
    }
   ],
   "source": [
    "import sympy\n",
    "from sympy import symbols\n",
    "\n",
    "x,y = symbols('x y')\n",
    "\n",
    "# un-comment the function you want\n",
    "eq = sympy.sinh(x)\n",
    "#eq = sympy.cosh(x)\n",
    "#eq = sympy.tanh(x)\n",
    "#eq = sympy.coth(x)\n",
    "#eq = sympy.sech(x)\n",
    "#eq = sympy.csch(x)\n",
    "\n",
    "derivative = sympy.diff(eq,x)\n",
    "eq"
   ]
  },
  {
   "cell_type": "code",
   "execution_count": 36,
   "id": "b702fc74",
   "metadata": {},
   "outputs": [
    {
     "data": {
      "text/latex": [
       "$\\displaystyle \\cosh{\\left(x \\right)}$"
      ],
      "text/plain": [
       "cosh(x)"
      ]
     },
     "execution_count": 36,
     "metadata": {},
     "output_type": "execute_result"
    }
   ],
   "source": [
    "derivative"
   ]
  },
  {
   "cell_type": "markdown",
   "id": "96732a45",
   "metadata": {},
   "source": [
    "## Inverse Hyperbolic Trig functions"
   ]
  },
  {
   "cell_type": "code",
   "execution_count": 37,
   "id": "616a1f69",
   "metadata": {},
   "outputs": [
    {
     "data": {
      "text/latex": [
       "$\\displaystyle \\operatorname{asinh}{\\left(x \\right)}$"
      ],
      "text/plain": [
       "asinh(x)"
      ]
     },
     "execution_count": 37,
     "metadata": {},
     "output_type": "execute_result"
    }
   ],
   "source": [
    "import sympy\n",
    "from sympy import symbols\n",
    "\n",
    "x,y = symbols('x y')\n",
    "\n",
    "# un-comment the function you want\n",
    "eq = sympy.asinh(x)\n",
    "#eq = sympy.acosh(x)\n",
    "#eq = sympy.atanh(x)\n",
    "#eq = sympy.acoth(x)\n",
    "#eq = sympy.asech(x)\n",
    "#eq = sympy.acsch(x)\n",
    "\n",
    "derivative = sympy.diff(eq,x)\n",
    "eq"
   ]
  },
  {
   "cell_type": "code",
   "execution_count": 38,
   "id": "7881c68e",
   "metadata": {},
   "outputs": [
    {
     "data": {
      "text/latex": [
       "$\\displaystyle \\frac{1}{\\sqrt{x^{2} + 1}}$"
      ],
      "text/plain": [
       "1/sqrt(x**2 + 1)"
      ]
     },
     "execution_count": 38,
     "metadata": {},
     "output_type": "execute_result"
    }
   ],
   "source": [
    "derivative"
   ]
  },
  {
   "cell_type": "markdown",
   "id": "e17360e2",
   "metadata": {},
   "source": [
    "## Implecit Differentiation\n",
    "\n",
    "#### y and x on the same side of the equation"
   ]
  },
  {
   "cell_type": "code",
   "execution_count": 46,
   "id": "3242ebc2",
   "metadata": {},
   "outputs": [
    {
     "data": {
      "text/latex": [
       "$\\displaystyle x^{3} - 6 x y + y^{3}$"
      ],
      "text/plain": [
       "x**3 - 6*x*y + y**3"
      ]
     },
     "execution_count": 46,
     "metadata": {},
     "output_type": "execute_result"
    }
   ],
   "source": [
    "import sympy\n",
    "from sympy import symbols\n",
    "\n",
    "x,y = symbols('x y')\n",
    "\n",
    "# equation equal to zero\n",
    "#eq = x**2 + y**2 - 25\n",
    "eq = x**3 + y**3 - 6*x*y\n",
    "derivative = sympy.idiff(eq,y,x)\n",
    "eq"
   ]
  },
  {
   "cell_type": "code",
   "execution_count": 47,
   "id": "f1ffd7d3",
   "metadata": {},
   "outputs": [
    {
     "data": {
      "text/latex": [
       "$\\displaystyle \\frac{x^{2} - 2 y}{2 x - y^{2}}$"
      ],
      "text/plain": [
       "(x**2 - 2*y)/(2*x - y**2)"
      ]
     },
     "execution_count": 47,
     "metadata": {},
     "output_type": "execute_result"
    }
   ],
   "source": [
    "derivative"
   ]
  },
  {
   "cell_type": "code",
   "execution_count": 48,
   "id": "b3eee9d0",
   "metadata": {},
   "outputs": [
    {
     "data": {
      "image/png": "[encoded data removed]",
      "text/plain": [
       "<Figure size 640x480 with 1 Axes>"
      ]
     },
     "metadata": {},
     "output_type": "display_data"
    },
    {
     "data": {
      "text/plain": [
       "<sympy.plotting.backends.matplotlibbackend.matplotlib.MatplotlibBackend at 0x1707fd2fc80>"
      ]
     },
     "execution_count": 48,
     "metadata": {},
     "output_type": "execute_result"
    }
   ],
   "source": [
    "from sympy.plotting import plot\n",
    "\n",
    "sympy.plot_implicit(eq)"
   ]
  },
  {
   "cell_type": "code",
   "execution_count": 49,
   "id": "3147c228",
   "metadata": {},
   "outputs": [
    {
     "name": "stdout",
     "output_type": "stream",
     "text": [
      "-1/10\n"
     ]
    }
   ],
   "source": [
    "# need an (x,y) point on the original line\n",
    "x_value = 3\n",
    "y_value = 4\n",
    "\n",
    "# two steps to plug in x and y\n",
    "answer_x = derivative.subs(x,x_value)\n",
    "answer_y = answer_x.subs(y,y_value)\n",
    "\n",
    "# slope at (x,y)\n",
    "print(answer_y)"
   ]
  },
  {
   "cell_type": "code",
   "execution_count": 50,
   "id": "a31ddebd",
   "metadata": {},
   "outputs": [
    {
     "name": "stdout",
     "output_type": "stream",
     "text": [
      "y = [3, -3/2 + 3*sqrt(5)/2, -3*sqrt(5)/2 - 3/2]\n"
     ]
    }
   ],
   "source": [
    "# start with an x value:\n",
    "x_value = 3\n",
    "\n",
    "# find the y value in the original equation\n",
    "x_part = eq.subs(x,x_value)\n",
    "y_part = sympy.Eq(x_part,0)\n",
    "y_value =  sympy.solve(y_part,y)\n",
    "print(\"y =\", y_value)\n",
    "# you may get multiple y values"
   ]
  },
  {
   "cell_type": "code",
   "execution_count": 51,
   "id": "924bf100",
   "metadata": {},
   "outputs": [
    {
     "name": "stdout",
     "output_type": "stream",
     "text": [
      "slope at ( 3 , 3 ) is  -1\n",
      "slope at ( 3 , -3/2 + 3*sqrt(5)/2 ) is  (12 - 3*sqrt(5))/(6 - (-3/2 + 3*sqrt(5)/2)**2)\n",
      "slope at ( 3 , -3*sqrt(5)/2 - 3/2 ) is  (3*sqrt(5) + 12)/(6 - (-3*sqrt(5)/2 - 3/2)**2)\n"
     ]
    }
   ],
   "source": [
    "for y_loop in y_value:\n",
    "  # two steps to plug x and y into the derivative\n",
    "  answer_x = derivative.subs(x,x_value)\n",
    "  answer_y = answer_x.subs(y,y_loop)\n",
    "  print(\"slope at (\", x_value, \",\", y_loop, \") is \", answer_y)\n"
   ]
  },
  {
   "cell_type": "code",
   "execution_count": 52,
   "id": "48258aa8",
   "metadata": {},
   "outputs": [
    {
     "data": {
      "text/latex": [
       "$\\displaystyle x + y$"
      ],
      "text/plain": [
       "x + y"
      ]
     },
     "execution_count": 52,
     "metadata": {},
     "output_type": "execute_result"
    }
   ],
   "source": [
    "import sympy\n",
    "from sympy import symbols\n",
    "import math\n",
    "\n",
    "x,y = symbols('x y')\n",
    "\n",
    "# put your y = equation here:\n",
    "eq = x\n",
    "derivative = sympy.diff(eq,x)\n",
    "\n",
    "# put your 0 = equation here:\n",
    "eq = x + y\n",
    "derivative = sympy.idiff(eq,y,x)\n",
    "\n",
    "# will only output the most recent\n",
    "eq"
   ]
  },
  {
   "cell_type": "code",
   "execution_count": 53,
   "id": "6f89de29",
   "metadata": {},
   "outputs": [
    {
     "data": {
      "text/latex": [
       "$\\displaystyle -1$"
      ],
      "text/plain": [
       "-1"
      ]
     },
     "execution_count": 53,
     "metadata": {},
     "output_type": "execute_result"
    }
   ],
   "source": [
    "derivative"
   ]
  },
  {
   "cell_type": "code",
   "execution_count": 54,
   "id": "9f818a33",
   "metadata": {},
   "outputs": [
    {
     "name": "stdout",
     "output_type": "stream",
     "text": [
      "-1\n"
     ]
    }
   ],
   "source": [
    "x_value = 0\n",
    "answer = derivative.subs(x,x_value)\n",
    "# or use the two-step process for implicit derivatives\n",
    "print(answer)"
   ]
  },
  {
   "cell_type": "markdown",
   "id": "1fdc713d",
   "metadata": {},
   "source": [
    "## Second derivative"
   ]
  },
  {
   "cell_type": "code",
   "execution_count": 55,
   "id": "dae32e7e",
   "metadata": {},
   "outputs": [
    {
     "data": {
      "text/latex": [
       "$\\displaystyle x^{3} + 2 x^{2} + 3 x + 4$"
      ],
      "text/plain": [
       "x**3 + 2*x**2 + 3*x + 4"
      ]
     },
     "execution_count": 55,
     "metadata": {},
     "output_type": "execute_result"
    }
   ],
   "source": [
    "# original equation\n",
    "\n",
    "import sympy\n",
    "from sympy import symbols\n",
    "\n",
    "x,y = symbols('x y')\n",
    "\n",
    "# y = equation\n",
    "eq = x**3 + 2*x**2 + 3*x + 4\n",
    "derivative = sympy.diff(eq,x)\n",
    "eq"
   ]
  },
  {
   "cell_type": "code",
   "execution_count": 56,
   "id": "585326b5",
   "metadata": {},
   "outputs": [
    {
     "data": {
      "text/latex": [
       "$\\displaystyle 3 x^{2} + 4 x + 3$"
      ],
      "text/plain": [
       "3*x**2 + 4*x + 3"
      ]
     },
     "execution_count": 56,
     "metadata": {},
     "output_type": "execute_result"
    }
   ],
   "source": [
    "derivative"
   ]
  },
  {
   "cell_type": "code",
   "execution_count": 57,
   "id": "fd5bf0f1",
   "metadata": {},
   "outputs": [
    {
     "data": {
      "text/latex": [
       "$\\displaystyle 6 x + 4$"
      ],
      "text/plain": [
       "6*x + 4"
      ]
     },
     "execution_count": 57,
     "metadata": {},
     "output_type": "execute_result"
    }
   ],
   "source": [
    "# second derivative\n",
    "second_derivative = sympy.diff(derivative,x)\n",
    "second_derivative"
   ]
  },
  {
   "cell_type": "markdown",
   "id": "f728f340",
   "metadata": {},
   "source": [
    "## Finding critical values"
   ]
  },
  {
   "cell_type": "code",
   "execution_count": 58,
   "id": "4922ed7d",
   "metadata": {},
   "outputs": [
    {
     "data": {
      "text/latex": [
       "$\\displaystyle 3 x^{2} + 4 x + 3 = 0$"
      ],
      "text/plain": [
       "Eq(3*x**2 + 4*x + 3, 0)"
      ]
     },
     "execution_count": 58,
     "metadata": {},
     "output_type": "execute_result"
    }
   ],
   "source": [
    "# first derivative again\n",
    "# set equal to zero\n",
    "first = sympy.Eq(derivative,0)\n",
    "first"
   ]
  },
  {
   "cell_type": "code",
   "execution_count": 59,
   "id": "28cc21e0",
   "metadata": {},
   "outputs": [
    {
     "data": {
      "text/plain": [
       "[-2/3 - sqrt(5)*I/3, -2/3 + sqrt(5)*I/3]"
      ]
     },
     "execution_count": 59,
     "metadata": {},
     "output_type": "execute_result"
    }
   ],
   "source": [
    "# set equal to zero and solve\n",
    "zeros = sympy.solve(first)\n",
    "zeros"
   ]
  },
  {
   "cell_type": "code",
   "execution_count": 60,
   "id": "a2062566",
   "metadata": {},
   "outputs": [
    {
     "name": "stdout",
     "output_type": "stream",
     "text": [
      "-2/3 + sqrt(5)*I/3 -2/3 - sqrt(5)*I/3\n"
     ]
    }
   ],
   "source": [
    "print(zeros[1],zeros[0])"
   ]
  },
  {
   "cell_type": "markdown",
   "id": "3da6f1cc",
   "metadata": {},
   "source": [
    "## Maximum Revenue"
   ]
  },
  {
   "cell_type": "code",
   "execution_count": 61,
   "id": "d8180901",
   "metadata": {},
   "outputs": [
    {
     "name": "stdout",
     "output_type": "stream",
     "text": [
      "y =  -4.0 x +  504.0\n"
     ]
    }
   ],
   "source": [
    "# two data points\n",
    "x_price_1 = 6\n",
    "y_demand_1 = 480\n",
    "x_price_2 = 7\n",
    "y_demand_2 = 476\n",
    "\n",
    "# slope and linear equation\n",
    "slope = (y_demand_2 - y_demand_1)/(x_price_2 - x_price_1)\n",
    "y_intercept = y_demand_1 - slope*x_price_1\n",
    "print(\"y = \", slope,\"x + \", y_intercept)"
   ]
  },
  {
   "cell_type": "code",
   "execution_count": 62,
   "id": "d52069ab",
   "metadata": {},
   "outputs": [
    {
     "data": {
      "text/latex": [
       "$\\displaystyle x \\left(504.0 - 4.0 x\\right)$"
      ],
      "text/plain": [
       "x*(504.0 - 4.0*x)"
      ]
     },
     "execution_count": 62,
     "metadata": {},
     "output_type": "execute_result"
    }
   ],
   "source": [
    "import sympy\n",
    "from sympy import symbols\n",
    "\n",
    "x,y = symbols('x y')\n",
    "\n",
    "# estimated demand equation\n",
    "demand = slope*x + y_intercept\n",
    "\n",
    "# revenue equation\n",
    "revenue = x*demand\n",
    "revenue"
   ]
  },
  {
   "cell_type": "code",
   "execution_count": 63,
   "id": "a0d468f7",
   "metadata": {},
   "outputs": [
    {
     "name": "stdout",
     "output_type": "stream",
     "text": [
      "maximum revenue is  15876.0000000000\n",
      "when price =  63.0000000000000\n"
     ]
    }
   ],
   "source": [
    "# maximum revenue\n",
    "max_revenue = sympy.diff(revenue,x)\n",
    "max_x = sympy.solve(max_revenue)\n",
    "max_y = revenue.subs(x,max_x[0])\n",
    "print(\"maximum revenue is \", max_y)\n",
    "print(\"when price = \", max_x[0])"
   ]
  },
  {
   "cell_type": "code",
   "execution_count": 64,
   "id": "73aa291c",
   "metadata": {},
   "outputs": [
    {
     "name": "stdout",
     "output_type": "stream",
     "text": [
      "rev 1 =  2880\n",
      "rev 2 =  3332\n",
      "rev 3 =  15876.0000000000\n",
      "252.000000000000\n"
     ]
    },
    {
     "data": {
      "text/plain": [
       "[126.000000000000]"
      ]
     },
     "execution_count": 64,
     "metadata": {},
     "output_type": "execute_result"
    }
   ],
   "source": [
    "#check\n",
    "print(\"rev 1 = \", x_price_1*y_demand_1)\n",
    "print(\"rev 2 = \", x_price_2*y_demand_2)\n",
    "print(\"rev 3 = \", max_x[0]*demand.subs(x,max_x[0]))\n",
    "print(demand.subs(x,max_x[0]))\n",
    "zero = sympy.solve(demand)\n",
    "zero"
   ]
  },
  {
   "cell_type": "code",
   "execution_count": 65,
   "id": "91e82c6d",
   "metadata": {},
   "outputs": [
    {
     "data": {
      "image/png": "[encoded data removed]",
      "text/plain": [
       "<Figure size 640x480 with 1 Axes>"
      ]
     },
     "metadata": {},
     "output_type": "display_data"
    },
    {
     "data": {
      "text/plain": [
       "<sympy.plotting.backends.matplotlibbackend.matplotlib.MatplotlibBackend at 0x1700b18ab10>"
      ]
     },
     "execution_count": 65,
     "metadata": {},
     "output_type": "execute_result"
    }
   ],
   "source": [
    "sympy.plot(revenue, xlim=[0,130], ylim=[0,16000])"
   ]
  },
  {
   "cell_type": "code",
   "execution_count": 66,
   "id": "da6576cd",
   "metadata": {},
   "outputs": [
    {
     "data": {
      "image/png": "[encoded data removed]",
      "text/plain": [
       "<Figure size 640x480 with 1 Axes>"
      ]
     },
     "metadata": {},
     "output_type": "display_data"
    },
    {
     "data": {
      "text/plain": [
       "<sympy.plotting.backends.matplotlibbackend.matplotlib.MatplotlibBackend at 0x170198f54c0>"
      ]
     },
     "execution_count": 66,
     "metadata": {},
     "output_type": "execute_result"
    }
   ],
   "source": [
    "sympy.plot(demand, xlim=[0,130], ylim=[0,600])"
   ]
  },
  {
   "cell_type": "code",
   "execution_count": null,
   "id": "93bc5b7b",
   "metadata": {},
   "outputs": [],
   "source": []
  }
 ],
 "metadata": {
  "kernelspec": {
   "display_name": "base",
   "language": "python",
   "name": "python3"
  },
  "language_info": {
   "codemirror_mode": {
    "name": "ipython",
    "version": 3
   },
   "file_extension": ".py",
   "mimetype": "text/x-python",
   "name": "python",
   "nbconvert_exporter": "python",
   "pygments_lexer": "ipython3",
   "version": "3.12.7"
  }
 },
 "nbformat": 4,
 "nbformat_minor": 5
}
