{
 "cells": [
  {
   "cell_type": "code",
   "execution_count": null,
   "metadata": {},
   "outputs": [],
   "source": [
    "import math\n",
    "import sympy\n",
    "from sympy import symbols\n",
    "from sympy.solvers import solve"
   ]
  },
  {
   "cell_type": "code",
   "execution_count": null,
   "metadata": {},
   "outputs": [],
   "source": [
    "x = symbols('x')\n",
    "\n",
    "# equation\n",
    "eq = x**2 - 4\n",
    "\n",
    "# solving the equation\n",
    "print(\" = \",solve(eq,x))"
   ]
  },
  {
   "cell_type": "code",
   "execution_count": null,
   "metadata": {},
   "outputs": [],
   "source": [
    "x = -2\n",
    "h = 0.0001\n",
    "\n",
    "# for y = (3*x**2)/(x**2 - 4)\n",
    "\n",
    "y_right = (3*(x+h)**2)/((x+h)**2 - 4)\n",
    "y_left = (3*(x-h)**2)/((x-h)**2 - 4)\n",
    "\n",
    "print(\"y_right = \", y_right)\n",
    "print(\"y_left = \", y_left)\n",
    "\n",
    "if round(y_right) != round(y_left):\n",
    "  print(\"Limit does not exist at x = \", x)"
   ]
  },
  {
   "cell_type": "markdown",
   "metadata": {},
   "source": [
    "## Limit as x approaches infinity"
   ]
  },
  {
   "cell_type": "code",
   "execution_count": null,
   "metadata": {},
   "outputs": [],
   "source": [
    "for x_value in [10,100,1000,10000]:\n",
    "  limit = (3*x_value**2)/(x_value**2 - 4)\n",
    "  print(\"x = \",x_value,\" Limit = \",limit)"
   ]
  },
  {
   "cell_type": "markdown",
   "metadata": {},
   "source": [
    "## Limits - graphing"
   ]
  },
  {
   "cell_type": "code",
   "execution_count": null,
   "metadata": {},
   "outputs": [],
   "source": [
    "import matplotlib.pyplot as plt\n",
    "import numpy as np\n",
    "\n",
    "# for equation y = (3*x**2)/(x**2 - 4)\n",
    "x_value = 0\n",
    "y_value = (3*x_value**2)/(x_value**2 - 4)\n",
    "\n",
    "zoom = 10\n",
    "xmin = x_value - zoom\n",
    "xmax = x_value + zoom\n",
    "ymin = y_value - zoom\n",
    "ymax = y_value + zoom\n",
    "\n",
    "x = np.linspace(xmin, xmax, 100)\n",
    "y = (3*x**2)/(x**2 - 4)\n",
    "#y = 3*x*(x-2)/(x-2)\n",
    "\n",
    "plt.axis([xmin,xmax,ymin,ymax]) # window size\n",
    "plt.plot(x, y)\n",
    "plt.plot([x_value],[y_value],'ro')\n",
    "#plt.plot([xmin,xmax],[3,3],'r--')\n",
    "plt.axhline(y=0, color='k')\n",
    "plt.axvline(x=0, color='k')\n",
    "plt.xlabel(\"x\")\n",
    "plt.ylabel(\"y\")\n",
    "plt.title(\"Graph of y = (3*x**2) / (x**2 - 4)\")\n",
    "plt.show()\n"
   ]
  },
  {
   "cell_type": "markdown",
   "metadata": {},
   "source": [
    "## Limits with Sympy"
   ]
  },
  {
   "cell_type": "code",
   "execution_count": null,
   "metadata": {},
   "outputs": [],
   "source": [
    "import sympy\n",
    "from sympy import symbols\n",
    "\n",
    "x = symbols('x')\n",
    "\n",
    "# Put the equation here\n",
    "eq = (3*x**2)/(x**2 - 4)\n",
    "\n",
    "# critical values\n",
    "x_1 = 2\n",
    "x_2 = -2\n",
    "\n",
    "# limit(expression, variable, value)\n",
    "\n",
    "# first critical point\n",
    "right = sympy.limit(eq, x, x_1, dir='+')\n",
    "left = sympy.limit(eq, x, x_1, dir='-')\n",
    "print(\"at x =\", x_1)\n",
    "print(\"right = \", right)\n",
    "print(\"left = \", left)\n",
    "\n",
    "# second critical point\n",
    "right = sympy.limit(eq, x, x_2, dir='+')\n",
    "left = sympy.limit(eq, x, x_2, dir='-')\n",
    "print(\"at x =\", x_2)\n",
    "print(\"right = \", right)\n",
    "print(\"left = \", left)\n",
    "\n",
    "# infinity\n",
    "right = sympy.limit(eq, x, sympy.oo)\n",
    "left = sympy.limit(eq, x, -sympy.oo)\n",
    "print(\"as x approaches infinity: \", right)\n",
    "print(\"as x approaches negative infinity: \", left)\n",
    "\n",
    "\n"
   ]
  },
  {
   "cell_type": "code",
   "execution_count": null,
   "metadata": {},
   "outputs": [],
   "source": [
    "# just testing some other limits\n",
    "\n",
    "import sympy as smp\n",
    "from sympy import symbols\n",
    "\n",
    "x = symbols('x')\n",
    "\n",
    "# limit as x approaches pi\n",
    "eq = smp.sin(x/2 + smp.sin(x))\n",
    "eq\n",
    "smp.limit(eq, x, smp.pi)\n",
    "\n",
    "# notice the direction\n",
    "eq = 2*smp.exp(1/x) / (smp.exp(1/x)+1)\n",
    "eq\n",
    "smp.limit(eq, x, 0, dir='+')"
   ]
  },
  {
   "cell_type": "markdown",
   "metadata": {},
   "source": [
    "## Limit and slope"
   ]
  },
  {
   "cell_type": "code",
   "execution_count": null,
   "metadata": {},
   "outputs": [],
   "source": [
    "import matplotlib.pyplot as plt\n",
    "import numpy as np\n",
    "\n",
    "# for y = x**2\n",
    "\n",
    "x_value = 1\n",
    "y_value = x_value**2\n",
    "\n",
    "# change h value to get better answer\n",
    "h = 0.3\n",
    "y_value_2 = (x_value + h)**2\n",
    "\n",
    "zoom = 10\n",
    "xmin = x_value - zoom\n",
    "xmax = x_value + zoom\n",
    "ymin = y_value - zoom\n",
    "ymax = y_value + zoom\n",
    "\n",
    "x = np.linspace(xmin, xmax, 100)\n",
    "y = x**2\n",
    "\n",
    "slope = (y_value_2 - y_value)/h\n",
    "print(\"slope = \", slope)\n",
    "\n",
    "plt.axis([xmin,xmax,ymin,ymax]) # window size\n",
    "plt.plot(x, y)\n",
    "plt.plot([x_value],[y_value],'ro')\n",
    "plt.plot([x_value + h],[y_value_2],'ro')\n",
    "plt.axhline(y=0, color='k')\n",
    "plt.axvline(x=0, color='k')\n",
    "plt.xlabel(\"x\")\n",
    "plt.ylabel(\"y\")\n",
    "plt.title(\"Graph of y=x^2\")\n",
    "plt.show()\n"
   ]
  },
  {
   "cell_type": "code",
   "execution_count": null,
   "metadata": {},
   "outputs": [],
   "source": [
    "# loop but no graph\n",
    "import matplotlib.pyplot as plt\n",
    "import numpy as np\n",
    "\n",
    "x_value = 1\n",
    "y_value = x_value**2\n",
    "\n",
    "# smaller h values get better approximations\n",
    "for a in range(1,11):\n",
    "  h = 10**(-a)\n",
    "  y_value_2 = (x_value + h)**2\n",
    "  slope = (y_value_2 - y_value)/h\n",
    "  print(\"slope = \", slope)\n"
   ]
  },
  {
   "cell_type": "code",
   "execution_count": null,
   "metadata": {},
   "outputs": [],
   "source": [
    "import matplotlib.pyplot as plt\n",
    "import numpy as np\n",
    "\n",
    "# for y = x**3\n",
    "\n",
    "x_value = 1\n",
    "y_value = x_value**3\n",
    "\n",
    "h = 0.3\n",
    "y_value_2 = (x_value + h)**3\n",
    "\n",
    "zoom = 10\n",
    "xmin = x_value - zoom\n",
    "xmax = x_value + zoom\n",
    "ymin = y_value - zoom\n",
    "ymax = y_value + zoom\n",
    "\n",
    "x = np.linspace(xmin, xmax, 100)\n",
    "y = x**3\n",
    "\n",
    "slope = (y_value_2 - y_value)/h\n",
    "print(\"slope = \", slope)\n",
    "\n",
    "plt.axis([xmin,xmax,ymin,ymax]) # window size\n",
    "plt.plot(x, y)\n",
    "plt.plot([x_value],[y_value],'ro')\n",
    "plt.plot([x_value + h],[y_value_2],'ro')\n",
    "plt.axhline(y=0, color='k')\n",
    "plt.axvline(x=0, color='k')\n",
    "plt.xlabel(\"x\")\n",
    "plt.ylabel(\"y\")\n",
    "plt.title(\"Graph of y=x^3\")\n",
    "plt.show()"
   ]
  },
  {
   "cell_type": "code",
   "execution_count": null,
   "metadata": {},
   "outputs": [],
   "source": [
    "# skip this\n",
    "# y = x**2 with sliders\n",
    "\n",
    "%matplotlib inline\n",
    "from ipywidgets import interactive\n",
    "import matplotlib.pyplot as plt\n",
    "import numpy as np\n",
    "import math\n",
    "\n",
    "def f(a):\n",
    "  h = 10**(-a)\n",
    "  x_value = 1\n",
    "  y_value = x_value**2\n",
    "  y_value_2 = (x_value + h)**2\n",
    "  zoom = 0.5\n",
    "  xmin = x_value - zoom\n",
    "  xmax = x_value + zoom\n",
    "  ymin = y_value - zoom\n",
    "  ymax = y_value + zoom\n",
    "  x = np.linspace(xmin, xmax, 100)\n",
    "  y = x**2\n",
    "  slope = (y_value_2 - y_value)/h\n",
    "  print(\"slope = \", slope)\n",
    "  plt.axis([xmin,xmax,ymin,ymax]) # window size\n",
    "  plt.plot(x, y)\n",
    "  plt.plot([x_value],[y_value],'ro')\n",
    "  plt.plot([x_value + h],[y_value_2],'ro')\n",
    "  plt.axhline(y=0, color='k')\n",
    "  plt.axvline(x=0, color='k')\n",
    "  plt.xlabel(\"x\")\n",
    "  plt.ylabel(\"y\")\n",
    "  plt.title(\"Graph of y=x^2\")\n",
    "  plt.show()\n",
    "\n",
    "interactive_plot = interactive(f, a=(1,9))\n",
    "interactive_plot"
   ]
  },
  {
   "cell_type": "code",
   "execution_count": null,
   "metadata": {},
   "outputs": [],
   "source": [
    "# skip this\n",
    "# y = x**3 with sliders\n",
    "\n",
    "%matplotlib inline\n",
    "from ipywidgets import interactive\n",
    "import matplotlib.pyplot as plt\n",
    "import numpy as np\n",
    "import math\n",
    "\n",
    "def f(a):\n",
    "  h = 10**(-a)\n",
    "  x_value = 2\n",
    "  y_value = x_value**3\n",
    "  y_value_2 = (x_value + h)**3\n",
    "  zoom = 2\n",
    "  xmin = x_value - zoom\n",
    "  xmax = x_value + zoom\n",
    "  ymin = y_value - zoom\n",
    "  ymax = y_value + zoom\n",
    "  x = np.linspace(xmin, xmax, 100)\n",
    "  y = x**3\n",
    "  slope = (y_value_2 - y_value)/h\n",
    "  print(\"slope = \", slope)\n",
    "  plt.axis([xmin,xmax,ymin,ymax]) # window size\n",
    "  plt.plot(x, y)\n",
    "  plt.plot([x_value],[y_value],'ro')\n",
    "  plt.plot([x_value + h],[y_value_2],'ro')\n",
    "  plt.axhline(y=0, color='k')\n",
    "  plt.axvline(x=0, color='k')\n",
    "  plt.xlabel(\"x\")\n",
    "  plt.ylabel(\"y\")\n",
    "  plt.title(\"Graph of y=x^2\")\n",
    "  plt.show()\n",
    "\n",
    "interactive_plot = interactive(f, a=(1,9))\n",
    "interactive_plot\n"
   ]
  },
  {
   "cell_type": "markdown",
   "metadata": {},
   "source": [
    "## Derivative"
   ]
  },
  {
   "cell_type": "code",
   "execution_count": null,
   "metadata": {},
   "outputs": [],
   "source": [
    "import sympy\n",
    "from sympy import symbols\n",
    "\n",
    "x,y = symbols('x y')\n",
    "\n",
    "# Put the equation here:\n",
    "expression = sympy.exp(x)*(2*x**2+3)\n",
    "derivative = sympy.diff(expression,x)\n",
    "print(\"derivative:\")\n",
    "derivative\n",
    "\n",
    "# derivative at a point in next code block"
   ]
  },
  {
   "cell_type": "code",
   "execution_count": null,
   "metadata": {},
   "outputs": [],
   "source": [
    "# Separating this keeps the nice sympy output\n",
    "\n",
    "x_value = 2\n",
    "answer = derivative.subs(x,x_value)\n",
    "print(\"slope at x =\", x_value, \" is \", answer)"
   ]
  },
  {
   "cell_type": "markdown",
   "metadata": {},
   "source": [
    "## Main derivative"
   ]
  },
  {
   "cell_type": "code",
   "execution_count": null,
   "metadata": {},
   "outputs": [],
   "source": [
    "import sympy\n",
    "from sympy import symbols\n",
    "\n",
    "x,y = symbols('x y')"
   ]
  },
  {
   "cell_type": "code",
   "execution_count": null,
   "metadata": {},
   "outputs": [],
   "source": [
    "eq = x**3\n",
    "derivative = sympy.diff(eq,x)\n",
    "#eq\n",
    "derivative"
   ]
  },
  {
   "cell_type": "code",
   "execution_count": null,
   "metadata": {},
   "outputs": [],
   "source": [
    "eq = 2**x\n",
    "derivative = sympy.diff(eq,x)\n",
    "#eq\n",
    "derivative"
   ]
  },
  {
   "cell_type": "code",
   "execution_count": null,
   "metadata": {},
   "outputs": [],
   "source": [
    "eq = x**3*sympy.sin(x)\n",
    "derivative = sympy.diff(eq,x)\n",
    "#eq\n",
    "print(derivative)\n",
    "print(eq)"
   ]
  },
  {
   "cell_type": "markdown",
   "metadata": {},
   "source": [
    "## Advanced derivatives"
   ]
  },
  {
   "cell_type": "code",
   "execution_count": null,
   "metadata": {},
   "outputs": [],
   "source": [
    "import sympy\n",
    "from sympy import symbols\n",
    "\n",
    "x,y = symbols('x y')\n",
    "\n",
    "expression = sympy.sin(x)/x\n",
    "expression"
   ]
  },
  {
   "cell_type": "code",
   "execution_count": null,
   "metadata": {},
   "outputs": [],
   "source": [
    "derivative = sympy.diff(expression,x)\n",
    "print(\"derivative:\")\n",
    "derivative"
   ]
  },
  {
   "cell_type": "code",
   "execution_count": null,
   "metadata": {},
   "outputs": [],
   "source": [
    "x_value = sympy.pi\n",
    "slope = derivative.subs(x,x_value)\n",
    "slope"
   ]
  },
  {
   "cell_type": "code",
   "execution_count": null,
   "metadata": {},
   "outputs": [],
   "source": [
    "sympy.plot(expression, derivative)"
   ]
  },
  {
   "cell_type": "code",
   "execution_count": null,
   "metadata": {},
   "outputs": [],
   "source": []
  }
 ],
 "metadata": {
  "kernelspec": {
   "display_name": "base",
   "language": "python",
   "name": "python3"
  },
  "language_info": {
   "codemirror_mode": {
    "name": "ipython",
    "version": 3
   },
   "file_extension": ".py",
   "mimetype": "text/x-python",
   "name": "python",
   "nbconvert_exporter": "python",
   "pygments_lexer": "ipython3",
   "version": "3.12.7"
  }
 },
 "nbformat": 4,
 "nbformat_minor": 2
}
