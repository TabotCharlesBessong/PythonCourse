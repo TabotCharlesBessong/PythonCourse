{
 "cells": [
  {
   "cell_type": "code",
   "execution_count": null,
   "id": "2b06538b",
   "metadata": {},
   "outputs": [],
   "source": [
    "# all from https://matplotlib.org/stable/gallery/mplot3d/lines3d.html\n",
    "\n",
    "import matplotlib.pyplot as plt\n",
    "import numpy as np\n",
    "\n",
    "ax = plt.figure().add_subplot(projection='3d')\n",
    "\n",
    "# Prepare arrays x, y, z\n",
    "theta = np.linspace(-4 * np.pi, 4 * np.pi, 100)\n",
    "z = np.linspace(-2, 2, 100)\n",
    "r = z**2 + 1\n",
    "x = r * np.sin(theta)\n",
    "y = r * np.cos(theta)\n",
    "\n",
    "ax.plot(x, y, z, label='parametric curve')\n",
    "ax.legend()\n",
    "\n",
    "plt.show()"
   ]
  },
  {
   "cell_type": "code",
   "execution_count": null,
   "id": "be298ce1",
   "metadata": {},
   "outputs": [],
   "source": [
    "# my 2D attempt\n",
    "\n",
    "import matplotlib.pyplot as plt\n",
    "import numpy as np\n",
    "\n",
    "ax = plt.figure().add_subplot()\n",
    "\n",
    "# Prepare arrays x, y, z\n",
    "theta = np.linspace(-4 * np.pi, 4 * np.pi, 100)\n",
    "z = np.linspace(-2, 2, 100)\n",
    "r = z**2 + 1\n",
    "x = r * np.sin(theta)\n",
    "y = r * np.cos(theta)\n",
    "\n",
    "ax.plot(x, y, label='parametric curve')\n",
    "ax.legend()\n",
    "\n",
    "plt.show()"
   ]
  },
  {
   "cell_type": "code",
   "execution_count": null,
   "id": "67cdbc5e",
   "metadata": {},
   "outputs": [],
   "source": [
    "import sympy\n",
    "from sympy import symbols\n",
    "\n",
    "x,y = symbols('x y')\n",
    "\n",
    "eq = 1/(1+sympy.exp(-x))\n",
    "derivative = sympy.diff(eq,x)\n",
    "eq\n",
    "\n"
   ]
  },
  {
   "cell_type": "code",
   "execution_count": null,
   "id": "d8523b5b",
   "metadata": {},
   "outputs": [],
   "source": [
    "derivative"
   ]
  },
  {
   "cell_type": "code",
   "execution_count": null,
   "id": "1bdec2a2",
   "metadata": {},
   "outputs": [],
   "source": [
    "sympy.plot(eq,derivative)"
   ]
  },
  {
   "cell_type": "markdown",
   "id": "99ce58ce",
   "metadata": {},
   "source": [
    "## Parametric graph"
   ]
  },
  {
   "cell_type": "code",
   "execution_count": null,
   "id": "47658881",
   "metadata": {},
   "outputs": [],
   "source": [
    "import matplotlib.pyplot as plt\n",
    "import numpy as np\n",
    "import math\n",
    "t = np.arange(0, 2*math.pi, 0.01)\n",
    "\n",
    "# Plots the blue circle\n",
    "plt.plot(2*np.cos(t), 2*np.sin(t), 'b--')\n",
    "plt.show()\n"
   ]
  },
  {
   "cell_type": "markdown",
   "id": "80163893",
   "metadata": {},
   "source": [
    "## Good output dy/dt and dx/dt\n",
    "#### Example: x<sup>2</sup> + y<sup>2</sup> = 25"
   ]
  },
  {
   "cell_type": "code",
   "execution_count": null,
   "id": "030f0d52",
   "metadata": {},
   "outputs": [],
   "source": [
    "import sympy\n",
    "from sympy import symbols, Derivative\n",
    "x, y, t = sympy.symbols('x y t')\n",
    "\n",
    "# 0 = expression\n",
    "expr = x**2 + y**2 - 25\n",
    "\n",
    "# to see the expression, make this the last line\n",
    "expr\n",
    "\n",
    "# to see the derivative\n",
    "der = expr.diff(x)*Derivative(x,t) + expr.diff(y)*Derivative(y,t)\n",
    "der"
   ]
  },
  {
   "cell_type": "code",
   "execution_count": null,
   "id": "6956adf8",
   "metadata": {},
   "outputs": [],
   "source": [
    "import sympy\n",
    "from sympy import symbols, Derivative, solve\n",
    "x, y, t = sympy.symbols('x y t')\n",
    "\n",
    "# broken down so the substitution works\n",
    "expr = x**2 + y**2 - 25\n",
    "expr\n",
    "dx = expr.diff(x)\n",
    "dy = expr.diff(y)\n",
    "dxdt = Derivative(x,t)\n",
    "dydt = Derivative(y,t)\n",
    "der = dx*dxdt + dy*dydt\n",
    "der\n",
    "\n",
    "# substitute in next code block"
   ]
  },
  {
   "cell_type": "code",
   "execution_count": null,
   "id": "853a1ac6",
   "metadata": {},
   "outputs": [],
   "source": [
    "der.subs(dxdt,3)"
   ]
  },
  {
   "cell_type": "code",
   "execution_count": null,
   "id": "92310b2f",
   "metadata": {},
   "outputs": [],
   "source": [
    "# plug in all unknowns but one\n",
    "plugin = der.subs([(dx,6),(dy,8),(dxdt,2)])\n",
    "plugin"
   ]
  },
  {
   "cell_type": "code",
   "execution_count": null,
   "id": "256a3d1e",
   "metadata": {},
   "outputs": [],
   "source": [
    "# solve for dydt\n",
    "eq = sympy.Eq(plugin,0)\n",
    "answer = sympy.solve(eq,dydt)\n",
    "answer"
   ]
  },
  {
   "cell_type": "markdown",
   "id": "bab9bea3",
   "metadata": {},
   "source": [
    "## Volume Example\n",
    "\n",
    "V = $\\frac{4}{3} \\pi$ r<sup>3</sup>"
   ]
  },
  {
   "cell_type": "code",
   "execution_count": null,
   "id": "dc8ed1d0",
   "metadata": {},
   "outputs": [],
   "source": [
    "# another example of related rates\n",
    "import sympy\n",
    "from sympy import symbols, Derivative\n",
    "v, r, t = sympy.symbols('v r t')\n",
    "\n",
    "expr = (4/3)*sympy.pi*r**3\n",
    "expr\n"
   ]
  },
  {
   "cell_type": "code",
   "execution_count": null,
   "id": "c1ce9bc2",
   "metadata": {},
   "outputs": [],
   "source": [
    "# broken down so subtitution works\n",
    "dr = expr.diff(r)\n",
    "drdt = Derivative(r,t)\n",
    "der = dr*drdt\n",
    "der"
   ]
  },
  {
   "cell_type": "code",
   "execution_count": null,
   "id": "7eb86937",
   "metadata": {},
   "outputs": [],
   "source": [
    "# plug in r value\n",
    "dr_plugin = dr.subs(r,4)\n",
    "plugin = dr_plugin*drdt\n",
    "plugin"
   ]
  },
  {
   "cell_type": "code",
   "execution_count": null,
   "id": "088efc67",
   "metadata": {},
   "outputs": [],
   "source": [
    "# solve for drdt\n",
    "dvdt = 9\n",
    "eq = sympy.Eq(plugin,dvdt)\n",
    "answer = sympy.solve(eq,drdt)\n",
    "answer\n"
   ]
  },
  {
   "cell_type": "markdown",
   "id": "7c16fc7f",
   "metadata": {},
   "source": [
    "## Angle Speed Example:<br>\n",
    "Camera angle x moving to follow an object<br>\n",
    "c<sup>2</sup> = a<sup>2</sup> + b<sup>2</sup> * 2ab * cos(x)<br>\n",
    "Distance c is changing, as the object's speed\n"
   ]
  },
  {
   "cell_type": "code",
   "execution_count": null,
   "id": "e32251c6",
   "metadata": {},
   "outputs": [],
   "source": [
    "import sympy\n",
    "from sympy import symbols, Derivative\n",
    "x, c, t = sympy.symbols('x c t')\n",
    "\n",
    "# a and b are constants\n",
    "a = 10\n",
    "b = 10\n",
    "expr_right = a**2+b**2-2*a*b*sympy.cos(x)\n",
    "expr_right"
   ]
  },
  {
   "cell_type": "code",
   "execution_count": null,
   "id": "a5e9981d",
   "metadata": {},
   "outputs": [],
   "source": [
    "dx = expr_right.diff(x)\n",
    "dxdt = Derivative(x,t)\n",
    "der_right = dx*dxdt\n",
    "der_right"
   ]
  },
  {
   "cell_type": "code",
   "execution_count": null,
   "id": "e6ff3d0a",
   "metadata": {},
   "outputs": [],
   "source": [
    "# c\n",
    "expr_left = c**2\n",
    "expr_left"
   ]
  },
  {
   "cell_type": "code",
   "execution_count": null,
   "id": "db37e6b4",
   "metadata": {},
   "outputs": [],
   "source": [
    "der_left = expr_left.diff(c)\n",
    "dcdt = Derivative(c,t)\n",
    "der_left = der_left*dcdt\n",
    "der_left"
   ]
  },
  {
   "cell_type": "code",
   "execution_count": null,
   "id": "bed379a7",
   "metadata": {},
   "outputs": [],
   "source": [
    "# plugin\n",
    "angle = 0.3\n",
    "speed = 3\n",
    "c_value = 2\n",
    "left = der_left.subs([(dcdt, speed), (c, 2)])\n",
    "right = dx.subs(x, angle)*dxdt\n",
    "\n",
    "full_equation = sympy.Eq(left, right)\n",
    "full_equation"
   ]
  },
  {
   "cell_type": "code",
   "execution_count": null,
   "id": "0a58feaf",
   "metadata": {},
   "outputs": [],
   "source": [
    "answer = sympy.solve(full_equation, dxdt)\n",
    "answer"
   ]
  },
  {
   "cell_type": "code",
   "execution_count": null,
   "id": "a8a5e2a6",
   "metadata": {},
   "outputs": [],
   "source": []
  }
 ],
 "metadata": {
  "kernelspec": {
   "display_name": "base",
   "language": "python",
   "name": "python3"
  },
  "language_info": {
   "codemirror_mode": {
    "name": "ipython",
    "version": 3
   },
   "file_extension": ".py",
   "mimetype": "text/x-python",
   "name": "python",
   "nbconvert_exporter": "python",
   "pygments_lexer": "ipython3",
   "version": "3.12.7"
  }
 },
 "nbformat": 4,
 "nbformat_minor": 5
}
