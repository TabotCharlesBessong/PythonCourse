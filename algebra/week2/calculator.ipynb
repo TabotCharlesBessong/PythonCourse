{
 "cells": [
  {
   "cell_type": "markdown",
   "metadata": {},
   "source": [
    "BUILDING A CALCULATOR"
   ]
  },
  {
   "cell_type": "code",
   "execution_count": null,
   "metadata": {},
   "outputs": [],
   "source": [
    "import matplotlib.pyplot as plt\n",
    "import numpy as np"
   ]
  },
  {
   "cell_type": "code",
   "execution_count": null,
   "metadata": {},
   "outputs": [],
   "source": [
    "x1 = 0\n",
    "y1 = 32\n",
    "x2 = 100\n",
    "y2 = 212\n",
    "\n",
    "m = (y2 - y1) / (x2 - x1)\n",
    "b = y1 - m*x1\n",
    "print(f\"y = {m} x + {b}\")"
   ]
  },
  {
   "cell_type": "code",
   "execution_count": null,
   "metadata": {},
   "outputs": [],
   "source": [
    "xmin = 0\n",
    "xmax = 10\n",
    "ymin = 0\n",
    "ymax = 500\n",
    "\n",
    "y3 = m*xmin + b\n",
    "y4 = m*xmax + b"
   ]
  },
  {
   "cell_type": "code",
   "execution_count": null,
   "metadata": {},
   "outputs": [],
   "source": [
    "fig,axes = plt.subplots()\n",
    "plt.axis([xmin,xmax,ymin,ymax]) #size of the figure frame\n",
    "plt.plot([xmin,xmax],[0,0],'b') #blue x axis\n",
    "plt.plot([0,0],[ymin,ymax],'r') # red y axis\n",
    "axes.set_xlabel('X values')\n",
    "axes.set_ylabel('Y values')\n",
    "axes.grid(True)\n",
    "\n",
    "plt.plot([xmin,xmax],[y3,y4],'g')\n",
    "plt.show()"
   ]
  },
  {
   "cell_type": "code",
   "execution_count": null,
   "metadata": {},
   "outputs": [],
   "source": [
    "%matplotlib inline\n",
    "from ipywidgets import interactive\n",
    "\n",
    "# Define the graphing function\n",
    "def f(zoom):\n",
    "  xmin = -zoom\n",
    "  xmax = zoom\n",
    "  ymin = -zoom\n",
    "  ymax = zoom\n",
    "  points = 10*xmax-xmin\n",
    "  x = np.linspace(xmin, xmax, points)\n",
    "\n",
    "  fig, ax = plt.subplots()\n",
    "  plt.axis([xmin,xmax,ymin,ymax]) # window size\n",
    "  plt.plot([xmin,xmax],[0,0],'black') # black x axis\n",
    "  plt.plot([0,0],[ymin,ymax], 'black') # black y axis\n",
    "  \n",
    "  # Change y1 to be any function\n",
    "  y1 = 3*x\n",
    "  plt.plot(x, y1)\n",
    "  # Plot another line here if you want\n",
    "  # y2 = \n",
    "  # plt.plot(x, y2)    \n",
    "  \n",
    "  ax.set_xlabel(\"x values\")\n",
    "  ax.set_ylabel(\"y values\")\n",
    "  ax.set_title(\"Some Graph\")\n",
    "  ticks = int(round((xmax-xmin)/10))\n",
    "  ax.set_xticks(np.arange(xmin, xmax, ticks))\n",
    "  ax.set_yticks(np.arange(ymin, ymax, ticks))\n",
    "  ax.grid(True)\n",
    "  plt.show()\n",
    "\n",
    "# Set up the slider\n",
    "interactive_plot = interactive(f, zoom=(1,100))\n",
    "interactive_plot\n"
   ]
  },
  {
   "attachments": {},
   "cell_type": "markdown",
   "metadata": {},
   "source": [
    "# Quadratic Functions - roots, vertext, graph"
   ]
  },
  {
   "cell_type": "code",
   "execution_count": null,
   "metadata": {},
   "outputs": [],
   "source": [
    "import math\n",
    "\n",
    "a = int(input(\"Enter the value of a:  \"))\n",
    "b = int(input(\"Enter the value of b:  \"))\n",
    "c = int(input(\"Enter the value of c:  \"))\n",
    "\n",
    "print(f\"y = {a}x**2 + {b}x + {c}\")"
   ]
  },
  {
   "attachments": {},
   "cell_type": "markdown",
   "metadata": {},
   "source": [
    "## Vertex"
   ]
  },
  {
   "cell_type": "code",
   "execution_count": null,
   "metadata": {},
   "outputs": [],
   "source": [
    "vx = -b*(2*a)\n",
    "vy = a*(vx**2) + b*vx + c\n",
    "print(f'Vertex: ({vx},{vy})')"
   ]
  },
  {
   "attachments": {},
   "cell_type": "markdown",
   "metadata": {},
   "source": [
    "## Roots"
   ]
  },
  {
   "cell_type": "code",
   "execution_count": null,
   "metadata": {},
   "outputs": [],
   "source": [
    "d = b**2 - 4*a*c\n",
    "# checking the value of the discriminant to so as to know which operation to operate on the equation\n",
    "\n",
    "if d >= 0:\n",
    "  # real and equal roots\n",
    "  root_1 = (-b + math.sqrt(d)) / (2*a)\n",
    "  root_2 = (-b - math.sqrt(d)) / (2*a)\n",
    "  print(f\"Roots: x = {root_1},and, x = {root_2}\")\n",
    "else:\n",
    "  print(\"No real roots found\")\n",
    "  \n",
    "xmin = -10\n",
    "xmax = 10\n",
    "ymin = -10\n",
    "ymax = 10\n",
    "points = 10*(xmax-xmin)\n",
    "x = np.linspace(xmin,xmax,points) \n",
    "\n",
    "fig, ax = plt.subplots()\n",
    "plt.axis([xmin,xmax,ymin,ymax]) # window size\n",
    "plt.plot([xmin,xmax],[0,0],'b') # blue x axis\n",
    "plt.plot([0,0],[ymin,ymax], 'b') # blue y axis\n",
    "\n",
    "# Graph the parabola\n",
    "y1 = a*x**2 + b*x + c \n",
    "plt.plot(x, y1) \n",
    "\n",
    "# Plot the vertex\n",
    "plt.plot([vx],[vy], 'ro') \n",
    "\n",
    "# Plot the roots\n",
    "plt.plot([root_1, root_2],[0,0], 'go') \n",
    "\n",
    "plt.show() "
   ]
  },
  {
   "cell_type": "code",
   "execution_count": null,
   "metadata": {},
   "outputs": [],
   "source": [
    "%matplotlib inline\n",
    "from ipywidgets import interactive\n",
    "\n",
    "# All graphing happens in this function\n",
    "def f(a,b,c):\n",
    "  xmin = -10\n",
    "  xmax = 10\n",
    "  ymin = -10\n",
    "  ymax = 10\n",
    "  points = 10*(xmax-xmin)\n",
    "  x = np.linspace(xmin,xmax,points)\n",
    "\n",
    "  plt.axis([xmin,xmax,ymin,ymax]) # window size\n",
    "  plt.plot([xmin,xmax],[0,0],'b') # x axis\n",
    "  plt.plot([0,0],[ymin,ymax], 'b') # y axis\n",
    "\n",
    "  # Parabola\n",
    "  y1 = a*x**2 + b*x + c \n",
    "  plt.plot(x, y1) \n",
    "\n",
    "  # Vertex\n",
    "  vx = -b/(2*a) \n",
    "  vy = a*(vx**2) + b*vx + c \n",
    "  plt.plot([vx],[vy], 'ro') \n",
    "\n",
    "  # Roots\n",
    "  d = b**2 - 4*a*c \n",
    "  if d>=0: \n",
    "    root_1 = (-b + math.sqrt(d))/(2*a) \n",
    "    root_2 = (-b - math.sqrt(d))/(2*a) \n",
    "    plt.plot([root_1, root_2],[0,0], 'go') \n",
    "  \n",
    "  # Set the equation as the title\n",
    "  sa = str(a)\n",
    "  sb = str(b)\n",
    "  sc = str(c)\n",
    "  h1 = \"y = \", sa, \"x**2 + \", sb, \"x + \", sc\n",
    "  h2 = \"\"\n",
    "  for w in h1:\n",
    "    h2 = h2 + w\n",
    "\n",
    "  plt.title(h2)\n",
    "  plt.show()\n",
    "\n",
    "# Interactive creates sliders for a, b, and c values\n",
    "interactive_plot = interactive(f, a=(1, 9), b=(-9,9), c=(-9,9))\n",
    "interactive_plot\n",
    "\n"
   ]
  },
  {
   "attachments": {},
   "cell_type": "markdown",
   "metadata": {},
   "source": [
    "# Compound interest calculator"
   ]
  },
  {
   "attachments": {},
   "cell_type": "markdown",
   "metadata": {},
   "source": [
    "When the compunding happens <i>n</i> times per year:<br>\n",
    "Annuity = P(1 +  $\\frac{r}{n})^{nt}$<p>\n",
    "When the growth is continuous: <br>\n",
    "Annuity = Pe<sup>rt</sup>"
   ]
  },
  {
   "cell_type": "code",
   "execution_count": null,
   "metadata": {},
   "outputs": [],
   "source": [
    "# Change these variables\n",
    "p = 1\n",
    "r = .35\n",
    "t = 1\n",
    "n = 1\n",
    "\n",
    "n_times = p*(1+(r/n))**(n*t)\n",
    "continuous = p*math.e**(r*t)\n",
    "\n",
    "print(\"Annuity when compounded \", n, \" times per year = \", n_times)\n",
    "print(\"Annuity when compounded continuously = \", continuous)"
   ]
  },
  {
   "cell_type": "code",
   "execution_count": null,
   "metadata": {},
   "outputs": [],
   "source": [
    "# Change these variables\n",
    "p = 1000\n",
    "r = .72\n",
    "t = 1\n",
    "monthly = 350\n",
    "\n",
    "# The loop will update this variable\n",
    "annuity = p\n",
    "\n",
    "# loop for contribution and percent growth\n",
    "for a in range(12*t):\n",
    "  annuity = (annuity+monthly)*(1+(r/12))\n",
    "\n",
    "print(\"annuity = \", round(annuity, 2))\n",
    "print(\"Annual income from interest = \", round(annuity*r, 2))"
   ]
  },
  {
   "attachments": {},
   "cell_type": "markdown",
   "metadata": {},
   "source": [
    "# Mortgage payment calculator"
   ]
  },
  {
   "attachments": {},
   "cell_type": "markdown",
   "metadata": {},
   "source": [
    "Mortgage payment formula:<p>\n",
    "monthly payment = P$\\frac{\\frac{r}{12}(1 + \\frac{r}{12})^{12t}}{(1 + \\frac{r}{12})^{12t} - 1}$ "
   ]
  },
  {
   "cell_type": "code",
   "execution_count": null,
   "metadata": {},
   "outputs": [],
   "source": [
    "# Change these values\n",
    "p = 240000\n",
    "r = .041\n",
    "t = 30\n",
    "\n",
    "# Break down that formula into parts\n",
    "numerator = (r/12)*(1+(r/12))**(12*t) \n",
    "print(numerator)\n",
    "print(numerator * p)\n",
    "denominator = (1+(r/12))**(12*t) - 1 \n",
    "print(denominator)\n",
    "payment = round(p*numerator/denominator, 2)\n",
    "\n",
    "print(\"monthly payment = \", payment)"
   ]
  },
  {
   "cell_type": "code",
   "execution_count": null,
   "metadata": {},
   "outputs": [],
   "source": [
    "import pandas as pd\n",
    "import io\n",
    "\n",
    "url = \"https://people.sc.fsu.edu/~jburkardt/data/csv/faithful.csv\"\n",
    "\n",
    "table = pd.read_csv(url)\n",
    "table"
   ]
  },
  {
   "cell_type": "code",
   "execution_count": null,
   "metadata": {},
   "outputs": [],
   "source": []
  }
 ],
 "metadata": {
  "kernelspec": {
   "display_name": "Python 3",
   "language": "python",
   "name": "python3"
  },
  "language_info": {
   "codemirror_mode": {
    "name": "ipython",
    "version": 3
   },
   "file_extension": ".py",
   "mimetype": "text/x-python",
   "name": "python",
   "nbconvert_exporter": "python",
   "pygments_lexer": "ipython3",
   "version": "3.10.0"
  },
  "orig_nbformat": 4,
  "vscode": {
   "interpreter": {
    "hash": "3e5eff28e1fe8eaff1ed87bdef7087dd0b80ab54a3ac8a2e96109ce025688be7"
   }
  }
 },
 "nbformat": 4,
 "nbformat_minor": 2
}
