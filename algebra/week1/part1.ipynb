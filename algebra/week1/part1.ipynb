{
 "cells": [
  {
   "attachments": {},
   "cell_type": "markdown",
   "metadata": {},
   "source": [
    "DIVISION FUNCTION"
   ]
  },
  {
   "cell_type": "code",
   "execution_count": null,
   "metadata": {},
   "outputs": [],
   "source": [
    "\n",
    "def string_fact(string):\n",
    "  if '/' in string:\n",
    "    nd = string.split('/')\n",
    "    n = float(nd[0])\n",
    "    d = float(nd[1])\n",
    "    ans = n/d\n",
    "    return ans\n",
    "  else:\n",
    "    ans = float(string)\n",
    "    return ans\n",
    "  \n",
    "nd = input('Enter values: ')\n",
    "string_fact(nd)"
   ]
  },
  {
   "attachments": {},
   "cell_type": "markdown",
   "metadata": {},
   "source": [
    "ONE STEP ADDITION "
   ]
  },
  {
   "cell_type": "code",
   "execution_count": null,
   "metadata": {},
   "outputs": [],
   "source": [
    "def one_step_add():\n",
    "  import random\n",
    "  a = random.randint(-4,10) # random integers between -4 and 10\n",
    "  b = random.randint(2,24) # random integers between 2 and 24\n",
    "  print(\"x + \",a,\" = \", b)\n",
    "  ans = float(input(\"x = \"))\n",
    "  answer = b-a\n",
    "  # Test Input\n",
    "  if ans == answer:\n",
    "    print(\"Correct answer! \\n\")\n",
    "  else:\n",
    "    print(\"Try again\")\n",
    "    \n",
    "    print(f\"The correct answer is {answer} , \\n\")\n",
    "    \n",
    "one_step_add()"
   ]
  },
  {
   "attachments": {},
   "cell_type": "markdown",
   "metadata": {},
   "source": [
    "ONE STEP SUBTRACTION"
   ]
  },
  {
   "cell_type": "code",
   "execution_count": null,
   "metadata": {},
   "outputs": [],
   "source": [
    "def one_step_subtract():\n",
    "  import random\n",
    "  a = random.randint(-19,-1)\n",
    "  b = random.randint(2,24)\n",
    "  print(a, \" + x = \", b)\n",
    "  ans = float(input(\"x = \"))\n",
    "  # test\n",
    "  answer = b-a\n",
    "  if ans==answer:\n",
    "    print(\"Correct! \\n\")\n",
    "  else:\n",
    "    print(\"Try again\")\n",
    "    print(f\"The correct answer is , {answer} \\n\")\n",
    "    \n",
    "one_step_subtract()"
   ]
  },
  {
   "attachments": {},
   "cell_type": "markdown",
   "metadata": {},
   "source": [
    "ONE STEP MULTIPLICATION"
   ]
  },
  {
   "cell_type": "code",
   "execution_count": null,
   "metadata": {},
   "outputs": [],
   "source": [
    "def one_step_mult():\n",
    "    # Uses string_frac(<input string>)\n",
    "    import random\n",
    "    a = random.randint(1,11)\n",
    "    b = random.randint(2,24)\n",
    "    print(a, \"x = \", b)\n",
    "    ans_in = (input(\"x = \"))\n",
    "    answer = b/a\n",
    "    # test\n",
    "    if string_fact(ans_in)==answer:\n",
    "        print(\"Correct! \\n\")\n",
    "    else:\n",
    "        print(\"Try again\")\n",
    "        print(f\"The correct answer is , {answer}, \\n\")\n",
    "        \n",
    "one_step_mult()"
   ]
  },
  {
   "attachments": {},
   "cell_type": "markdown",
   "metadata": {},
   "source": [
    "ONE STEP DIVISION"
   ]
  },
  {
   "cell_type": "code",
   "execution_count": null,
   "metadata": {},
   "outputs": [],
   "source": [
    "def one_step_div():\n",
    "  import random\n",
    "  a = random.randint(1,11)\n",
    "  b = random.randint(2,24)\n",
    "  print(\"x/\", a, \" = \", b)\n",
    "  ans = float(input(\"x = \"))\n",
    "  answer = b*a\n",
    "  # test\n",
    "  if ans==answer:\n",
    "    print(\"Correct! \\n\")\n",
    "  else:\n",
    "    print(\"Try again\")\n",
    "    print(f\"The correct answer is , {answer}, \\n\")\n",
    "        \n",
    "one_step_div()"
   ]
  },
  {
   "attachments": {},
   "cell_type": "markdown",
   "metadata": {},
   "source": [
    "TWO STEPS PROBLEMS "
   ]
  },
  {
   "cell_type": "code",
   "execution_count": null,
   "metadata": {},
   "outputs": [],
   "source": [
    "def two_step():\n",
    "  import random\n",
    "  # Uses string_frac()\n",
    "  a = random.randint(1,11)\n",
    "  b = random.randint(-7,12)\n",
    "  c = random.randint(2,36)\n",
    "  print(a, \"x + \", b, \" = \", c)\n",
    "  print(\"Round answer to two decimal places\")\n",
    "  ans_in = input(\"x = \")\n",
    "  answer = round((c-b)/a,2)\n",
    "  # test\n",
    "  if round(string_fact(ans_in),3)==round(answer,3):\n",
    "    print(\"Correct! \\n\")\n",
    "  else:\n",
    "    print(\"Try again\")\n",
    "    print(f\"The correct answer is , {answer}, \\n\")\n",
    "two_step()"
   ]
  },
  {
   "cell_type": "code",
   "execution_count": null,
   "metadata": {},
   "outputs": [],
   "source": [
    "# Proportions - unknown numerator\n",
    "def proportions_n():\n",
    "  import random\n",
    "  # Uses string_frac() function\n",
    "  n1 = random.randint(1,21)\n",
    "  d1 = random.randint(1,21)\n",
    "  n2 = \"x\"\n",
    "  d2 = random.randint(1,21)\n",
    "  print(n1, \"\\t\\t\", n2)\n",
    "  print(\"--- \\t = \\t ---\")\n",
    "  print(d1, \"\\t\\t\", d2)\n",
    "  print(\" \")\n",
    "  ans_in = input(\"x = \")\n",
    "  answer = round((d2*n1/d1),2)\n",
    "  if string_fact(ans_in)==answer:\n",
    "    print(\"Correct! \\n\")\n",
    "  else:\n",
    "    print(\"Try again\")\n",
    "    print(f\"The correct answer is  {answer} \\n\")\n",
    "\n",
    "proportions_n()"
   ]
  },
  {
   "cell_type": "code",
   "execution_count": null,
   "metadata": {},
   "outputs": [],
   "source": [
    "# Proportions - unknown denominator\n",
    "def proportions_d():\n",
    "  import random\n",
    "  # Uses string_frac() function\n",
    "  n1 = random.randint(1,21)\n",
    "  d1 = random.randint(1,21)\n",
    "  n2 = random.randint(1,21)\n",
    "  d2 = \"x\"\n",
    "  print(n1, \"\\t\\t\", n2)\n",
    "  print(\"--- \\t = \\t ---\")\n",
    "  print(d1, \"\\t\\t\", d2)\n",
    "  print(\" \")\n",
    "  ans_in = input(\"x = \")\n",
    "  answer = d1*n2/n1\n",
    "  if string_fact(ans_in)==answer:\n",
    "    print(\"Correct! \\n\")\n",
    "  else:\n",
    "    print(\"Try again\")\n",
    "    \n",
    "proportions_d()"
   ]
  },
  {
   "cell_type": "code",
   "execution_count": null,
   "metadata": {},
   "outputs": [],
   "source": []
  }
 ],
 "metadata": {
  "kernelspec": {
   "display_name": "Python 3",
   "language": "python",
   "name": "python3"
  },
  "language_info": {
   "codemirror_mode": {
    "name": "ipython",
    "version": 3
   },
   "file_extension": ".py",
   "mimetype": "text/x-python",
   "name": "python",
   "nbconvert_exporter": "python",
   "pygments_lexer": "ipython3",
   "version": "3.10.0"
  },
  "orig_nbformat": 4,
  "vscode": {
   "interpreter": {
    "hash": "3e5eff28e1fe8eaff1ed87bdef7087dd0b80ab54a3ac8a2e96109ce025688be7"
   }
  }
 },
 "nbformat": 4,
 "nbformat_minor": 2
}
