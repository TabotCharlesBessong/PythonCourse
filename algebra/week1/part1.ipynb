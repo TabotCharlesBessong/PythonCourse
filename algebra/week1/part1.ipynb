{
 "cells": [
  {
   "attachments": {},
   "cell_type": "markdown",
   "metadata": {},
   "source": [
    "DIVISION FUNCTION"
   ]
  },
  {
   "cell_type": "code",
   "execution_count": null,
   "metadata": {},
   "outputs": [],
   "source": [
    "\n",
    "def string_fact(string):\n",
    "  if '/' in string:\n",
    "    nd = string.split('/')\n",
    "    n = float(nd[0])\n",
    "    d = float(nd[1])\n",
    "    ans = n/d\n",
    "    return ans\n",
    "  else:\n",
    "    ans = float(string)\n",
    "    return ans\n",
    "  \n",
    "nd = input('Enter values: ')\n",
    "string_fact(nd)"
   ]
  },
  {
   "attachments": {},
   "cell_type": "markdown",
   "metadata": {},
   "source": [
    "ONE STEP ADDITION "
   ]
  },
  {
   "cell_type": "code",
   "execution_count": null,
   "metadata": {},
   "outputs": [],
   "source": [
    "def one_step_add():\n",
    "  import random\n",
    "  a = random.randint(-4,10) # random integers between -4 and 10\n",
    "  b = random.randint(2,24) # random integers between 2 and 24\n",
    "  print(\"x + \",a,\" = \", b)\n",
    "  ans = float(input(\"x = \"))\n",
    "  answer = b-a\n",
    "  # Test Input\n",
    "  if ans == answer:\n",
    "    print(\"Correct answer! \\n\")\n",
    "  else:\n",
    "    print(\"Try again\")\n",
    "    \n",
    "    print(f\"The correct answer is {answer} , \\n\")\n",
    "    \n",
    "one_step_add()"
   ]
  },
  {
   "attachments": {},
   "cell_type": "markdown",
   "metadata": {},
   "source": [
    "ONE STEP SUBTRACTION"
   ]
  },
  {
   "cell_type": "code",
   "execution_count": null,
   "metadata": {},
   "outputs": [],
   "source": [
    "def one_step_subtract():\n",
    "  import random\n",
    "  a = random.randint(-19,-1)\n",
    "  b = random.randint(2,24)\n",
    "  print(a, \" + x = \", b)\n",
    "  ans = float(input(\"x = \"))\n",
    "  # test\n",
    "  answer = b-a\n",
    "  if ans==answer:\n",
    "    print(\"Correct! \\n\")\n",
    "  else:\n",
    "    print(\"Try again\")\n",
    "    print(f\"The correct answer is , {answer} \\n\")\n",
    "    \n",
    "one_step_subtract()"
   ]
  },
  {
   "attachments": {},
   "cell_type": "markdown",
   "metadata": {},
   "source": [
    "ONE STEP MULTIPLICATION"
   ]
  },
  {
   "cell_type": "code",
   "execution_count": null,
   "metadata": {},
   "outputs": [],
   "source": [
    "def one_step_mult():\n",
    "    # Uses string_frac(<input string>)\n",
    "    import random\n",
    "    a = random.randint(1,11)\n",
    "    b = random.randint(2,24)\n",
    "    print(a, \"x = \", b)\n",
    "    ans_in = (input(\"x = \"))\n",
    "    answer = b/a\n",
    "    # test\n",
    "    if string_fact(ans_in)==answer:\n",
    "        print(\"Correct! \\n\")\n",
    "    else:\n",
    "        print(\"Try again\")\n",
    "        print(f\"The correct answer is , {answer}, \\n\")\n",
    "        \n",
    "one_step_mult()"
   ]
  },
  {
   "attachments": {},
   "cell_type": "markdown",
   "metadata": {},
   "source": [
    "ONE STEP DIVISION"
   ]
  },
  {
   "cell_type": "code",
   "execution_count": null,
   "metadata": {},
   "outputs": [],
   "source": [
    "def one_step_div():\n",
    "  import random\n",
    "  a = random.randint(1,11)\n",
    "  b = random.randint(2,24)\n",
    "  print(\"x/\", a, \" = \", b)\n",
    "  ans = float(input(\"x = \"))\n",
    "  answer = b*a\n",
    "  # test\n",
    "  if ans==answer:\n",
    "    print(\"Correct! \\n\")\n",
    "  else:\n",
    "    print(\"Try again\")\n",
    "    print(f\"The correct answer is , {answer}, \\n\")\n",
    "        \n",
    "one_step_div()"
   ]
  },
  {
   "cell_type": "code",
   "execution_count": null,
   "metadata": {},
   "outputs": [],
   "source": []
  }
 ],
 "metadata": {
  "kernelspec": {
   "display_name": "Python 3",
   "language": "python",
   "name": "python3"
  },
  "language_info": {
   "codemirror_mode": {
    "name": "ipython",
    "version": 3
   },
   "file_extension": ".py",
   "mimetype": "text/x-python",
   "name": "python",
   "nbconvert_exporter": "python",
   "pygments_lexer": "ipython3",
   "version": "3.10.0"
  },
  "orig_nbformat": 4,
  "vscode": {
   "interpreter": {
    "hash": "3e5eff28e1fe8eaff1ed87bdef7087dd0b80ab54a3ac8a2e96109ce025688be7"
   }
  }
 },
 "nbformat": 4,
 "nbformat_minor": 2
}
